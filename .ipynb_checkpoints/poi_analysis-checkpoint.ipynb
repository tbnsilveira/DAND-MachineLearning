{
 "cells": [
  {
   "cell_type": "markdown",
   "metadata": {},
   "source": [
    "# Identifying fraud from Enron e-mails"
   ]
  },
  {
   "cell_type": "markdown",
   "metadata": {},
   "source": [
    "## Table of Contents\n",
    "* <a href=\"#sec1\">1. Introduction</a>\n",
    "  * <a href=\"#sec1.1\"> 1.1. Initial statements </a>\n",
    "\n",
    "* <a href=\"#sec2\">2. Data Wrangling</a>\n",
    "  * <a href=\"#sec2.1\"> 2.1. Loading the data </a>\n",
    "\n",
    "* <a href=\"#sec3\">3. Feature selection</a>\n",
    "  * <a href=\"#sec3.1\"> 3.1. Selecting valid data </a>\n",
    "  * <a href=\"#sec3.2\"> 3.2. Looking for outliers </a>"
   ]
  },
  {
   "cell_type": "markdown",
   "metadata": {},
   "source": [
    "<a id='sec1'></a>\n",
    "## 1. Introduction"
   ]
  },
  {
   "cell_type": "markdown",
   "metadata": {},
   "source": [
    "<a id='sec1.1'></a>\n",
    "### 1.1. Initial statements\n",
    "This section sets up import statements for all the packages that will be used throughout this python notebook."
   ]
  },
  {
   "cell_type": "code",
   "execution_count": 3,
   "metadata": {
    "collapsed": false
   },
   "outputs": [],
   "source": [
    "# Udacity statements\n",
    "import sys\n",
    "import pickle\n",
    "sys.path.append(\"tools/\")\n",
    "\n",
    "from feature_format import featureFormat, targetFeatureSplit\n",
    "from tester import dump_classifier_and_data\n",
    "\n",
    "# Data analysis packages:\n",
    "import pandas as pd\n",
    "import numpy as np\n",
    "#from datetime import datetime as dt\n",
    "\n",
    "# Visualization packages:\n",
    "import seaborn as sns\n",
    "import matplotlib.pyplot as plt\n",
    "%matplotlib inline"
   ]
  },
  {
   "cell_type": "code",
   "execution_count": 4,
   "metadata": {
    "collapsed": true
   },
   "outputs": [],
   "source": [
    "## Forcing pandas to display any number of elements\n",
    "pd.set_option('display.max_columns', None)\n",
    "pd.options.display.max_seq_items = 2000"
   ]
  },
  {
   "cell_type": "markdown",
   "metadata": {},
   "source": [
    "<a id='sec2'></a>\n",
    "## 2. Data wrangling\n",
    "Analyzing the data integrity, the expected values and removing outliers."
   ]
  },
  {
   "cell_type": "markdown",
   "metadata": {},
   "source": [
    "<a id='sec2.1'></a>\n",
    "### 2.1. Loading the data"
   ]
  },
  {
   "cell_type": "code",
   "execution_count": 5,
   "metadata": {
    "collapsed": true
   },
   "outputs": [],
   "source": [
    "### Load the dictionary containing the dataset\n",
    "with open(\"final_project_dataset.pkl\", \"r\") as data_file:\n",
    "    data_dict = pickle.load(data_file)"
   ]
  },
  {
   "cell_type": "code",
   "execution_count": 6,
   "metadata": {
    "collapsed": false
   },
   "outputs": [
    {
     "name": "stdout",
     "output_type": "stream",
     "text": [
      "('Dataset type: ', <type 'dict'>)\n",
      "('Dataset length: ', 146)\n"
     ]
    }
   ],
   "source": [
    "## What is the data type and length?\n",
    "print('Dataset type: ',type(data_dict))\n",
    "print('Dataset length: ',len(data_dict))"
   ]
  },
  {
   "cell_type": "code",
   "execution_count": 7,
   "metadata": {
    "collapsed": false,
    "scrolled": true
   },
   "outputs": [
    {
     "data": {
      "text/html": [
       "<div>\n",
       "<style>\n",
       "    .dataframe thead tr:only-child th {\n",
       "        text-align: right;\n",
       "    }\n",
       "\n",
       "    .dataframe thead th {\n",
       "        text-align: left;\n",
       "    }\n",
       "\n",
       "    .dataframe tbody tr th {\n",
       "        vertical-align: top;\n",
       "    }\n",
       "</style>\n",
       "<table border=\"1\" class=\"dataframe\">\n",
       "  <thead>\n",
       "    <tr style=\"text-align: right;\">\n",
       "      <th></th>\n",
       "      <th>salary</th>\n",
       "      <th>to_messages</th>\n",
       "      <th>deferral_payments</th>\n",
       "      <th>total_payments</th>\n",
       "      <th>exercised_stock_options</th>\n",
       "      <th>bonus</th>\n",
       "      <th>restricted_stock</th>\n",
       "      <th>shared_receipt_with_poi</th>\n",
       "      <th>restricted_stock_deferred</th>\n",
       "      <th>total_stock_value</th>\n",
       "      <th>expenses</th>\n",
       "      <th>loan_advances</th>\n",
       "      <th>from_messages</th>\n",
       "      <th>other</th>\n",
       "      <th>from_this_person_to_poi</th>\n",
       "      <th>poi</th>\n",
       "      <th>director_fees</th>\n",
       "      <th>deferred_income</th>\n",
       "      <th>long_term_incentive</th>\n",
       "      <th>email_address</th>\n",
       "      <th>from_poi_to_this_person</th>\n",
       "    </tr>\n",
       "  </thead>\n",
       "  <tbody>\n",
       "    <tr>\n",
       "      <th>ALLEN PHILLIP K</th>\n",
       "      <td>201955</td>\n",
       "      <td>2902</td>\n",
       "      <td>2869717</td>\n",
       "      <td>4484442</td>\n",
       "      <td>1729541</td>\n",
       "      <td>4175000</td>\n",
       "      <td>126027</td>\n",
       "      <td>1407</td>\n",
       "      <td>-126027</td>\n",
       "      <td>1729541</td>\n",
       "      <td>13868</td>\n",
       "      <td>NaN</td>\n",
       "      <td>2195</td>\n",
       "      <td>152</td>\n",
       "      <td>65</td>\n",
       "      <td>False</td>\n",
       "      <td>NaN</td>\n",
       "      <td>-3081055</td>\n",
       "      <td>304805</td>\n",
       "      <td>phillip.allen@enron.com</td>\n",
       "      <td>47</td>\n",
       "    </tr>\n",
       "    <tr>\n",
       "      <th>BADUM JAMES P</th>\n",
       "      <td>NaN</td>\n",
       "      <td>NaN</td>\n",
       "      <td>178980</td>\n",
       "      <td>182466</td>\n",
       "      <td>257817</td>\n",
       "      <td>NaN</td>\n",
       "      <td>NaN</td>\n",
       "      <td>NaN</td>\n",
       "      <td>NaN</td>\n",
       "      <td>257817</td>\n",
       "      <td>3486</td>\n",
       "      <td>NaN</td>\n",
       "      <td>NaN</td>\n",
       "      <td>NaN</td>\n",
       "      <td>NaN</td>\n",
       "      <td>False</td>\n",
       "      <td>NaN</td>\n",
       "      <td>NaN</td>\n",
       "      <td>NaN</td>\n",
       "      <td>NaN</td>\n",
       "      <td>NaN</td>\n",
       "    </tr>\n",
       "    <tr>\n",
       "      <th>BANNANTINE JAMES M</th>\n",
       "      <td>477</td>\n",
       "      <td>566</td>\n",
       "      <td>NaN</td>\n",
       "      <td>916197</td>\n",
       "      <td>4046157</td>\n",
       "      <td>NaN</td>\n",
       "      <td>1757552</td>\n",
       "      <td>465</td>\n",
       "      <td>-560222</td>\n",
       "      <td>5243487</td>\n",
       "      <td>56301</td>\n",
       "      <td>NaN</td>\n",
       "      <td>29</td>\n",
       "      <td>864523</td>\n",
       "      <td>0</td>\n",
       "      <td>False</td>\n",
       "      <td>NaN</td>\n",
       "      <td>-5104</td>\n",
       "      <td>NaN</td>\n",
       "      <td>james.bannantine@enron.com</td>\n",
       "      <td>39</td>\n",
       "    </tr>\n",
       "    <tr>\n",
       "      <th>BAXTER JOHN C</th>\n",
       "      <td>267102</td>\n",
       "      <td>NaN</td>\n",
       "      <td>1295738</td>\n",
       "      <td>5634343</td>\n",
       "      <td>6680544</td>\n",
       "      <td>1200000</td>\n",
       "      <td>3942714</td>\n",
       "      <td>NaN</td>\n",
       "      <td>NaN</td>\n",
       "      <td>10623258</td>\n",
       "      <td>11200</td>\n",
       "      <td>NaN</td>\n",
       "      <td>NaN</td>\n",
       "      <td>2660303</td>\n",
       "      <td>NaN</td>\n",
       "      <td>False</td>\n",
       "      <td>NaN</td>\n",
       "      <td>-1386055</td>\n",
       "      <td>1586055</td>\n",
       "      <td>NaN</td>\n",
       "      <td>NaN</td>\n",
       "    </tr>\n",
       "    <tr>\n",
       "      <th>BAY FRANKLIN R</th>\n",
       "      <td>239671</td>\n",
       "      <td>NaN</td>\n",
       "      <td>260455</td>\n",
       "      <td>827696</td>\n",
       "      <td>NaN</td>\n",
       "      <td>400000</td>\n",
       "      <td>145796</td>\n",
       "      <td>NaN</td>\n",
       "      <td>-82782</td>\n",
       "      <td>63014</td>\n",
       "      <td>129142</td>\n",
       "      <td>NaN</td>\n",
       "      <td>NaN</td>\n",
       "      <td>69</td>\n",
       "      <td>NaN</td>\n",
       "      <td>False</td>\n",
       "      <td>NaN</td>\n",
       "      <td>-201641</td>\n",
       "      <td>NaN</td>\n",
       "      <td>frank.bay@enron.com</td>\n",
       "      <td>NaN</td>\n",
       "    </tr>\n",
       "  </tbody>\n",
       "</table>\n",
       "</div>"
      ],
      "text/plain": [
       "                    salary to_messages deferral_payments total_payments  \\\n",
       "ALLEN PHILLIP K     201955        2902           2869717        4484442   \n",
       "BADUM JAMES P          NaN         NaN            178980         182466   \n",
       "BANNANTINE JAMES M     477         566               NaN         916197   \n",
       "BAXTER JOHN C       267102         NaN           1295738        5634343   \n",
       "BAY FRANKLIN R      239671         NaN            260455         827696   \n",
       "\n",
       "                   exercised_stock_options    bonus restricted_stock  \\\n",
       "ALLEN PHILLIP K                    1729541  4175000           126027   \n",
       "BADUM JAMES P                       257817      NaN              NaN   \n",
       "BANNANTINE JAMES M                 4046157      NaN          1757552   \n",
       "BAXTER JOHN C                      6680544  1200000          3942714   \n",
       "BAY FRANKLIN R                         NaN   400000           145796   \n",
       "\n",
       "                   shared_receipt_with_poi restricted_stock_deferred  \\\n",
       "ALLEN PHILLIP K                       1407                   -126027   \n",
       "BADUM JAMES P                          NaN                       NaN   \n",
       "BANNANTINE JAMES M                     465                   -560222   \n",
       "BAXTER JOHN C                          NaN                       NaN   \n",
       "BAY FRANKLIN R                         NaN                    -82782   \n",
       "\n",
       "                   total_stock_value expenses loan_advances from_messages  \\\n",
       "ALLEN PHILLIP K              1729541    13868           NaN          2195   \n",
       "BADUM JAMES P                 257817     3486           NaN           NaN   \n",
       "BANNANTINE JAMES M           5243487    56301           NaN            29   \n",
       "BAXTER JOHN C               10623258    11200           NaN           NaN   \n",
       "BAY FRANKLIN R                 63014   129142           NaN           NaN   \n",
       "\n",
       "                      other from_this_person_to_poi    poi director_fees  \\\n",
       "ALLEN PHILLIP K         152                      65  False           NaN   \n",
       "BADUM JAMES P           NaN                     NaN  False           NaN   \n",
       "BANNANTINE JAMES M   864523                       0  False           NaN   \n",
       "BAXTER JOHN C       2660303                     NaN  False           NaN   \n",
       "BAY FRANKLIN R           69                     NaN  False           NaN   \n",
       "\n",
       "                   deferred_income long_term_incentive  \\\n",
       "ALLEN PHILLIP K           -3081055              304805   \n",
       "BADUM JAMES P                  NaN                 NaN   \n",
       "BANNANTINE JAMES M           -5104                 NaN   \n",
       "BAXTER JOHN C             -1386055             1586055   \n",
       "BAY FRANKLIN R             -201641                 NaN   \n",
       "\n",
       "                                 email_address from_poi_to_this_person  \n",
       "ALLEN PHILLIP K        phillip.allen@enron.com                      47  \n",
       "BADUM JAMES P                              NaN                     NaN  \n",
       "BANNANTINE JAMES M  james.bannantine@enron.com                      39  \n",
       "BAXTER JOHN C                              NaN                     NaN  \n",
       "BAY FRANKLIN R             frank.bay@enron.com                     NaN  "
      ]
     },
     "execution_count": 7,
     "metadata": {},
     "output_type": "execute_result"
    }
   ],
   "source": [
    "## Exploring the dataset through pandas.Dataframe\n",
    "dataset = pd.DataFrame.from_dict(data_dict, orient='index')\n",
    "dataset.head()"
   ]
  },
  {
   "cell_type": "markdown",
   "metadata": {},
   "source": [
    "<a id='sec2.2'></a>\n",
    "### 2.2 Analyzing string data:"
   ]
  },
  {
   "cell_type": "code",
   "execution_count": 8,
   "metadata": {
    "collapsed": false
   },
   "outputs": [
    {
     "data": {
      "text/html": [
       "<div>\n",
       "<style>\n",
       "    .dataframe thead tr:only-child th {\n",
       "        text-align: right;\n",
       "    }\n",
       "\n",
       "    .dataframe thead th {\n",
       "        text-align: left;\n",
       "    }\n",
       "\n",
       "    .dataframe tbody tr th {\n",
       "        vertical-align: top;\n",
       "    }\n",
       "</style>\n",
       "<table border=\"1\" class=\"dataframe\">\n",
       "  <thead>\n",
       "    <tr style=\"text-align: right;\">\n",
       "      <th></th>\n",
       "      <th>salary</th>\n",
       "      <th>to_messages</th>\n",
       "      <th>deferral_payments</th>\n",
       "      <th>total_payments</th>\n",
       "      <th>exercised_stock_options</th>\n",
       "      <th>bonus</th>\n",
       "      <th>restricted_stock</th>\n",
       "      <th>shared_receipt_with_poi</th>\n",
       "      <th>restricted_stock_deferred</th>\n",
       "      <th>total_stock_value</th>\n",
       "      <th>expenses</th>\n",
       "      <th>loan_advances</th>\n",
       "      <th>from_messages</th>\n",
       "      <th>other</th>\n",
       "      <th>from_this_person_to_poi</th>\n",
       "      <th>poi</th>\n",
       "      <th>director_fees</th>\n",
       "      <th>deferred_income</th>\n",
       "      <th>long_term_incentive</th>\n",
       "      <th>email_address</th>\n",
       "      <th>from_poi_to_this_person</th>\n",
       "    </tr>\n",
       "  </thead>\n",
       "  <tbody>\n",
       "    <tr>\n",
       "      <th>count</th>\n",
       "      <td>146</td>\n",
       "      <td>146</td>\n",
       "      <td>146</td>\n",
       "      <td>146</td>\n",
       "      <td>146</td>\n",
       "      <td>146</td>\n",
       "      <td>146</td>\n",
       "      <td>146</td>\n",
       "      <td>146</td>\n",
       "      <td>146</td>\n",
       "      <td>146</td>\n",
       "      <td>146</td>\n",
       "      <td>146</td>\n",
       "      <td>146</td>\n",
       "      <td>146</td>\n",
       "      <td>146</td>\n",
       "      <td>146</td>\n",
       "      <td>146</td>\n",
       "      <td>146</td>\n",
       "      <td>146</td>\n",
       "      <td>146</td>\n",
       "    </tr>\n",
       "    <tr>\n",
       "      <th>unique</th>\n",
       "      <td>95</td>\n",
       "      <td>87</td>\n",
       "      <td>40</td>\n",
       "      <td>126</td>\n",
       "      <td>102</td>\n",
       "      <td>42</td>\n",
       "      <td>98</td>\n",
       "      <td>84</td>\n",
       "      <td>19</td>\n",
       "      <td>125</td>\n",
       "      <td>95</td>\n",
       "      <td>5</td>\n",
       "      <td>65</td>\n",
       "      <td>93</td>\n",
       "      <td>42</td>\n",
       "      <td>2</td>\n",
       "      <td>18</td>\n",
       "      <td>45</td>\n",
       "      <td>53</td>\n",
       "      <td>112</td>\n",
       "      <td>58</td>\n",
       "    </tr>\n",
       "    <tr>\n",
       "      <th>top</th>\n",
       "      <td>NaN</td>\n",
       "      <td>NaN</td>\n",
       "      <td>NaN</td>\n",
       "      <td>NaN</td>\n",
       "      <td>NaN</td>\n",
       "      <td>NaN</td>\n",
       "      <td>NaN</td>\n",
       "      <td>NaN</td>\n",
       "      <td>NaN</td>\n",
       "      <td>NaN</td>\n",
       "      <td>NaN</td>\n",
       "      <td>NaN</td>\n",
       "      <td>NaN</td>\n",
       "      <td>NaN</td>\n",
       "      <td>NaN</td>\n",
       "      <td>False</td>\n",
       "      <td>NaN</td>\n",
       "      <td>NaN</td>\n",
       "      <td>NaN</td>\n",
       "      <td>NaN</td>\n",
       "      <td>NaN</td>\n",
       "    </tr>\n",
       "    <tr>\n",
       "      <th>freq</th>\n",
       "      <td>51</td>\n",
       "      <td>60</td>\n",
       "      <td>107</td>\n",
       "      <td>21</td>\n",
       "      <td>44</td>\n",
       "      <td>64</td>\n",
       "      <td>36</td>\n",
       "      <td>60</td>\n",
       "      <td>128</td>\n",
       "      <td>20</td>\n",
       "      <td>51</td>\n",
       "      <td>142</td>\n",
       "      <td>60</td>\n",
       "      <td>53</td>\n",
       "      <td>60</td>\n",
       "      <td>128</td>\n",
       "      <td>129</td>\n",
       "      <td>97</td>\n",
       "      <td>80</td>\n",
       "      <td>35</td>\n",
       "      <td>60</td>\n",
       "    </tr>\n",
       "  </tbody>\n",
       "</table>\n",
       "</div>"
      ],
      "text/plain": [
       "       salary to_messages deferral_payments total_payments  \\\n",
       "count     146         146               146            146   \n",
       "unique     95          87                40            126   \n",
       "top       NaN         NaN               NaN            NaN   \n",
       "freq       51          60               107             21   \n",
       "\n",
       "       exercised_stock_options bonus restricted_stock shared_receipt_with_poi  \\\n",
       "count                      146   146              146                     146   \n",
       "unique                     102    42               98                      84   \n",
       "top                        NaN   NaN              NaN                     NaN   \n",
       "freq                        44    64               36                      60   \n",
       "\n",
       "       restricted_stock_deferred total_stock_value expenses loan_advances  \\\n",
       "count                        146               146      146           146   \n",
       "unique                        19               125       95             5   \n",
       "top                          NaN               NaN      NaN           NaN   \n",
       "freq                         128                20       51           142   \n",
       "\n",
       "       from_messages other from_this_person_to_poi    poi director_fees  \\\n",
       "count            146   146                     146    146           146   \n",
       "unique            65    93                      42      2            18   \n",
       "top              NaN   NaN                     NaN  False           NaN   \n",
       "freq              60    53                      60    128           129   \n",
       "\n",
       "       deferred_income long_term_incentive email_address  \\\n",
       "count              146                 146           146   \n",
       "unique              45                  53           112   \n",
       "top                NaN                 NaN           NaN   \n",
       "freq                97                  80            35   \n",
       "\n",
       "       from_poi_to_this_person  \n",
       "count                      146  \n",
       "unique                      58  \n",
       "top                        NaN  \n",
       "freq                        60  "
      ]
     },
     "execution_count": 8,
     "metadata": {},
     "output_type": "execute_result"
    }
   ],
   "source": [
    "dataset.describe()"
   ]
  },
  {
   "cell_type": "code",
   "execution_count": 9,
   "metadata": {
    "collapsed": false,
    "scrolled": true
   },
   "outputs": [],
   "source": [
    "## Checking the feature data type:\n",
    "features_to_check = []\n",
    "for col in dataset.columns:\n",
    "    datatype = type(dataset[col][0])\n",
    "    ## Uncomment the line below for a verbose mode:\n",
    "    # print '{} has type {}'.format(col,datatype)\n",
    "    ## Here we select those attributes which have string type data:\n",
    "    if datatype is str:\n",
    "        features_to_check.append(col)"
   ]
  },
  {
   "cell_type": "code",
   "execution_count": 10,
   "metadata": {
    "collapsed": false
   },
   "outputs": [
    {
     "data": {
      "text/plain": [
       "['loan_advances', 'director_fees', 'email_address']"
      ]
     },
     "execution_count": 10,
     "metadata": {},
     "output_type": "execute_result"
    }
   ],
   "source": [
    "## Printing out the features that must be checked (string types are not iterable!)\n",
    "features_to_check"
   ]
  },
  {
   "cell_type": "markdown",
   "metadata": {},
   "source": [
    "From the features above, only *email_address* is expected to contain string type data. In this way, an in-depth look must be done in the other ones."
   ]
  },
  {
   "cell_type": "markdown",
   "metadata": {},
   "source": [
    "<a id='sec2.2.1'></a>\n",
    "#### 2.2.1 Checking *loan_advances* data:\n",
    "This attribute type is originally *(str type)*. However, it was expected to have financial values. "
   ]
  },
  {
   "cell_type": "code",
   "execution_count": 11,
   "metadata": {
    "collapsed": false
   },
   "outputs": [
    {
     "data": {
      "text/plain": [
       "array(['NaN', 2000000, 81525000, 400000, 83925000], dtype=object)"
      ]
     },
     "execution_count": 11,
     "metadata": {},
     "output_type": "execute_result"
    }
   ],
   "source": [
    "dataset['loan_advances'].unique()"
   ]
  },
  {
   "cell_type": "markdown",
   "metadata": {},
   "source": [
    "Only four instances have *loan_advances* valid values. Checking them out:"
   ]
  },
  {
   "cell_type": "code",
   "execution_count": 12,
   "metadata": {
    "collapsed": false
   },
   "outputs": [
    {
     "data": {
      "text/html": [
       "<div>\n",
       "<style>\n",
       "    .dataframe thead tr:only-child th {\n",
       "        text-align: right;\n",
       "    }\n",
       "\n",
       "    .dataframe thead th {\n",
       "        text-align: left;\n",
       "    }\n",
       "\n",
       "    .dataframe tbody tr th {\n",
       "        vertical-align: top;\n",
       "    }\n",
       "</style>\n",
       "<table border=\"1\" class=\"dataframe\">\n",
       "  <thead>\n",
       "    <tr style=\"text-align: right;\">\n",
       "      <th></th>\n",
       "      <th>salary</th>\n",
       "      <th>to_messages</th>\n",
       "      <th>deferral_payments</th>\n",
       "      <th>total_payments</th>\n",
       "      <th>exercised_stock_options</th>\n",
       "      <th>bonus</th>\n",
       "      <th>restricted_stock</th>\n",
       "      <th>shared_receipt_with_poi</th>\n",
       "      <th>restricted_stock_deferred</th>\n",
       "      <th>total_stock_value</th>\n",
       "      <th>expenses</th>\n",
       "      <th>loan_advances</th>\n",
       "      <th>from_messages</th>\n",
       "      <th>other</th>\n",
       "      <th>from_this_person_to_poi</th>\n",
       "      <th>poi</th>\n",
       "      <th>director_fees</th>\n",
       "      <th>deferred_income</th>\n",
       "      <th>long_term_incentive</th>\n",
       "      <th>email_address</th>\n",
       "      <th>from_poi_to_this_person</th>\n",
       "    </tr>\n",
       "  </thead>\n",
       "  <tbody>\n",
       "    <tr>\n",
       "      <th>FREVERT MARK A</th>\n",
       "      <td>1060932</td>\n",
       "      <td>3275</td>\n",
       "      <td>6426990</td>\n",
       "      <td>17252530</td>\n",
       "      <td>10433518</td>\n",
       "      <td>2000000</td>\n",
       "      <td>4188667</td>\n",
       "      <td>2979</td>\n",
       "      <td>NaN</td>\n",
       "      <td>14622185</td>\n",
       "      <td>86987</td>\n",
       "      <td>2000000</td>\n",
       "      <td>21</td>\n",
       "      <td>7427621</td>\n",
       "      <td>6</td>\n",
       "      <td>False</td>\n",
       "      <td>NaN</td>\n",
       "      <td>-3367011</td>\n",
       "      <td>1617011</td>\n",
       "      <td>mark.frevert@enron.com</td>\n",
       "      <td>242</td>\n",
       "    </tr>\n",
       "    <tr>\n",
       "      <th>LAY KENNETH L</th>\n",
       "      <td>1072321</td>\n",
       "      <td>4273</td>\n",
       "      <td>202911</td>\n",
       "      <td>103559793</td>\n",
       "      <td>34348384</td>\n",
       "      <td>7000000</td>\n",
       "      <td>14761694</td>\n",
       "      <td>2411</td>\n",
       "      <td>NaN</td>\n",
       "      <td>49110078</td>\n",
       "      <td>99832</td>\n",
       "      <td>81525000</td>\n",
       "      <td>36</td>\n",
       "      <td>10359729</td>\n",
       "      <td>16</td>\n",
       "      <td>True</td>\n",
       "      <td>NaN</td>\n",
       "      <td>-300000</td>\n",
       "      <td>3600000</td>\n",
       "      <td>kenneth.lay@enron.com</td>\n",
       "      <td>123</td>\n",
       "    </tr>\n",
       "    <tr>\n",
       "      <th>PICKERING MARK R</th>\n",
       "      <td>655037</td>\n",
       "      <td>898</td>\n",
       "      <td>NaN</td>\n",
       "      <td>1386690</td>\n",
       "      <td>28798</td>\n",
       "      <td>300000</td>\n",
       "      <td>NaN</td>\n",
       "      <td>728</td>\n",
       "      <td>NaN</td>\n",
       "      <td>28798</td>\n",
       "      <td>31653</td>\n",
       "      <td>400000</td>\n",
       "      <td>67</td>\n",
       "      <td>NaN</td>\n",
       "      <td>0</td>\n",
       "      <td>False</td>\n",
       "      <td>NaN</td>\n",
       "      <td>NaN</td>\n",
       "      <td>NaN</td>\n",
       "      <td>mark.pickering@enron.com</td>\n",
       "      <td>7</td>\n",
       "    </tr>\n",
       "    <tr>\n",
       "      <th>TOTAL</th>\n",
       "      <td>26704229</td>\n",
       "      <td>NaN</td>\n",
       "      <td>32083396</td>\n",
       "      <td>309886585</td>\n",
       "      <td>311764000</td>\n",
       "      <td>97343619</td>\n",
       "      <td>130322299</td>\n",
       "      <td>NaN</td>\n",
       "      <td>-7576788</td>\n",
       "      <td>434509511</td>\n",
       "      <td>5235198</td>\n",
       "      <td>83925000</td>\n",
       "      <td>NaN</td>\n",
       "      <td>42667589</td>\n",
       "      <td>NaN</td>\n",
       "      <td>False</td>\n",
       "      <td>1398517</td>\n",
       "      <td>-27992891</td>\n",
       "      <td>48521928</td>\n",
       "      <td>NaN</td>\n",
       "      <td>NaN</td>\n",
       "    </tr>\n",
       "  </tbody>\n",
       "</table>\n",
       "</div>"
      ],
      "text/plain": [
       "                    salary to_messages deferral_payments total_payments  \\\n",
       "FREVERT MARK A     1060932        3275           6426990       17252530   \n",
       "LAY KENNETH L      1072321        4273            202911      103559793   \n",
       "PICKERING MARK R    655037         898               NaN        1386690   \n",
       "TOTAL             26704229         NaN          32083396      309886585   \n",
       "\n",
       "                 exercised_stock_options     bonus restricted_stock  \\\n",
       "FREVERT MARK A                  10433518   2000000          4188667   \n",
       "LAY KENNETH L                   34348384   7000000         14761694   \n",
       "PICKERING MARK R                   28798    300000              NaN   \n",
       "TOTAL                          311764000  97343619        130322299   \n",
       "\n",
       "                 shared_receipt_with_poi restricted_stock_deferred  \\\n",
       "FREVERT MARK A                      2979                       NaN   \n",
       "LAY KENNETH L                       2411                       NaN   \n",
       "PICKERING MARK R                     728                       NaN   \n",
       "TOTAL                                NaN                  -7576788   \n",
       "\n",
       "                 total_stock_value expenses loan_advances from_messages  \\\n",
       "FREVERT MARK A            14622185    86987       2000000            21   \n",
       "LAY KENNETH L             49110078    99832      81525000            36   \n",
       "PICKERING MARK R             28798    31653        400000            67   \n",
       "TOTAL                    434509511  5235198      83925000           NaN   \n",
       "\n",
       "                     other from_this_person_to_poi    poi director_fees  \\\n",
       "FREVERT MARK A     7427621                       6  False           NaN   \n",
       "LAY KENNETH L     10359729                      16   True           NaN   \n",
       "PICKERING MARK R       NaN                       0  False           NaN   \n",
       "TOTAL             42667589                     NaN  False       1398517   \n",
       "\n",
       "                 deferred_income long_term_incentive  \\\n",
       "FREVERT MARK A          -3367011             1617011   \n",
       "LAY KENNETH L            -300000             3600000   \n",
       "PICKERING MARK R             NaN                 NaN   \n",
       "TOTAL                  -27992891            48521928   \n",
       "\n",
       "                             email_address from_poi_to_this_person  \n",
       "FREVERT MARK A      mark.frevert@enron.com                     242  \n",
       "LAY KENNETH L        kenneth.lay@enron.com                     123  \n",
       "PICKERING MARK R  mark.pickering@enron.com                       7  \n",
       "TOTAL                                  NaN                     NaN  "
      ]
     },
     "execution_count": 12,
     "metadata": {},
     "output_type": "execute_result"
    }
   ],
   "source": [
    "dataset[dataset['loan_advances']!='NaN']"
   ]
  },
  {
   "cell_type": "markdown",
   "metadata": {},
   "source": [
    "The first outlier pops out from this data -- the **TOTAL** instance must be removed. Besides it, this feature occurs only for three valid instances, in the way maybe it's not the best feature to feed our classifier."
   ]
  },
  {
   "cell_type": "markdown",
   "metadata": {},
   "source": [
    "<a id='sec2.2.2'></a>\n",
    "#### 2.2.1 Checking *director_fees* data:\n",
    "As for *loan_advances*, this attribute type is originally *(str type)*. However, it was expected to have financial values too. "
   ]
  },
  {
   "cell_type": "code",
   "execution_count": 13,
   "metadata": {
    "collapsed": false
   },
   "outputs": [
    {
     "data": {
      "text/plain": [
       "array(['NaN', 3285, 137864, 113784, 98784, 102492, 119292, 108750, 112492,\n",
       "       103750, 38346, 101250, 17500, 125034, 1398517, 36666, 109298, 108579], dtype=object)"
      ]
     },
     "execution_count": 13,
     "metadata": {},
     "output_type": "execute_result"
    }
   ],
   "source": [
    "dataset['director_fees'].unique()"
   ]
  },
  {
   "cell_type": "code",
   "execution_count": 14,
   "metadata": {
    "collapsed": false,
    "scrolled": true
   },
   "outputs": [
    {
     "data": {
      "text/html": [
       "<div>\n",
       "<style>\n",
       "    .dataframe thead tr:only-child th {\n",
       "        text-align: right;\n",
       "    }\n",
       "\n",
       "    .dataframe thead th {\n",
       "        text-align: left;\n",
       "    }\n",
       "\n",
       "    .dataframe tbody tr th {\n",
       "        vertical-align: top;\n",
       "    }\n",
       "</style>\n",
       "<table border=\"1\" class=\"dataframe\">\n",
       "  <thead>\n",
       "    <tr style=\"text-align: right;\">\n",
       "      <th></th>\n",
       "      <th>salary</th>\n",
       "      <th>to_messages</th>\n",
       "      <th>deferral_payments</th>\n",
       "      <th>total_payments</th>\n",
       "      <th>exercised_stock_options</th>\n",
       "      <th>bonus</th>\n",
       "      <th>restricted_stock</th>\n",
       "      <th>shared_receipt_with_poi</th>\n",
       "      <th>restricted_stock_deferred</th>\n",
       "      <th>total_stock_value</th>\n",
       "      <th>expenses</th>\n",
       "      <th>loan_advances</th>\n",
       "      <th>from_messages</th>\n",
       "      <th>other</th>\n",
       "      <th>from_this_person_to_poi</th>\n",
       "      <th>poi</th>\n",
       "      <th>director_fees</th>\n",
       "      <th>deferred_income</th>\n",
       "      <th>long_term_incentive</th>\n",
       "      <th>email_address</th>\n",
       "      <th>from_poi_to_this_person</th>\n",
       "    </tr>\n",
       "  </thead>\n",
       "  <tbody>\n",
       "    <tr>\n",
       "      <th>BELFER ROBERT</th>\n",
       "      <td>NaN</td>\n",
       "      <td>NaN</td>\n",
       "      <td>-102500</td>\n",
       "      <td>102500</td>\n",
       "      <td>3285</td>\n",
       "      <td>NaN</td>\n",
       "      <td>NaN</td>\n",
       "      <td>NaN</td>\n",
       "      <td>44093</td>\n",
       "      <td>-44093</td>\n",
       "      <td>NaN</td>\n",
       "      <td>NaN</td>\n",
       "      <td>NaN</td>\n",
       "      <td>NaN</td>\n",
       "      <td>NaN</td>\n",
       "      <td>False</td>\n",
       "      <td>3285</td>\n",
       "      <td>NaN</td>\n",
       "      <td>NaN</td>\n",
       "      <td>NaN</td>\n",
       "      <td>NaN</td>\n",
       "    </tr>\n",
       "    <tr>\n",
       "      <th>BHATNAGAR SANJAY</th>\n",
       "      <td>NaN</td>\n",
       "      <td>523</td>\n",
       "      <td>NaN</td>\n",
       "      <td>15456290</td>\n",
       "      <td>2604490</td>\n",
       "      <td>NaN</td>\n",
       "      <td>-2604490</td>\n",
       "      <td>463</td>\n",
       "      <td>15456290</td>\n",
       "      <td>NaN</td>\n",
       "      <td>NaN</td>\n",
       "      <td>NaN</td>\n",
       "      <td>29</td>\n",
       "      <td>137864</td>\n",
       "      <td>1</td>\n",
       "      <td>False</td>\n",
       "      <td>137864</td>\n",
       "      <td>NaN</td>\n",
       "      <td>NaN</td>\n",
       "      <td>sanjay.bhatnagar@enron.com</td>\n",
       "      <td>0</td>\n",
       "    </tr>\n",
       "    <tr>\n",
       "      <th>BLAKE JR. NORMAN P</th>\n",
       "      <td>NaN</td>\n",
       "      <td>NaN</td>\n",
       "      <td>NaN</td>\n",
       "      <td>1279</td>\n",
       "      <td>NaN</td>\n",
       "      <td>NaN</td>\n",
       "      <td>NaN</td>\n",
       "      <td>NaN</td>\n",
       "      <td>NaN</td>\n",
       "      <td>NaN</td>\n",
       "      <td>1279</td>\n",
       "      <td>NaN</td>\n",
       "      <td>NaN</td>\n",
       "      <td>NaN</td>\n",
       "      <td>NaN</td>\n",
       "      <td>False</td>\n",
       "      <td>113784</td>\n",
       "      <td>-113784</td>\n",
       "      <td>NaN</td>\n",
       "      <td>NaN</td>\n",
       "      <td>NaN</td>\n",
       "    </tr>\n",
       "    <tr>\n",
       "      <th>CHAN RONNIE</th>\n",
       "      <td>NaN</td>\n",
       "      <td>NaN</td>\n",
       "      <td>NaN</td>\n",
       "      <td>NaN</td>\n",
       "      <td>NaN</td>\n",
       "      <td>NaN</td>\n",
       "      <td>32460</td>\n",
       "      <td>NaN</td>\n",
       "      <td>-32460</td>\n",
       "      <td>NaN</td>\n",
       "      <td>NaN</td>\n",
       "      <td>NaN</td>\n",
       "      <td>NaN</td>\n",
       "      <td>NaN</td>\n",
       "      <td>NaN</td>\n",
       "      <td>False</td>\n",
       "      <td>98784</td>\n",
       "      <td>-98784</td>\n",
       "      <td>NaN</td>\n",
       "      <td>NaN</td>\n",
       "      <td>NaN</td>\n",
       "    </tr>\n",
       "    <tr>\n",
       "      <th>DUNCAN JOHN H</th>\n",
       "      <td>NaN</td>\n",
       "      <td>NaN</td>\n",
       "      <td>NaN</td>\n",
       "      <td>77492</td>\n",
       "      <td>371750</td>\n",
       "      <td>NaN</td>\n",
       "      <td>NaN</td>\n",
       "      <td>NaN</td>\n",
       "      <td>NaN</td>\n",
       "      <td>371750</td>\n",
       "      <td>NaN</td>\n",
       "      <td>NaN</td>\n",
       "      <td>NaN</td>\n",
       "      <td>NaN</td>\n",
       "      <td>NaN</td>\n",
       "      <td>False</td>\n",
       "      <td>102492</td>\n",
       "      <td>-25000</td>\n",
       "      <td>NaN</td>\n",
       "      <td>NaN</td>\n",
       "      <td>NaN</td>\n",
       "    </tr>\n",
       "    <tr>\n",
       "      <th>GRAMM WENDY L</th>\n",
       "      <td>NaN</td>\n",
       "      <td>NaN</td>\n",
       "      <td>NaN</td>\n",
       "      <td>119292</td>\n",
       "      <td>NaN</td>\n",
       "      <td>NaN</td>\n",
       "      <td>NaN</td>\n",
       "      <td>NaN</td>\n",
       "      <td>NaN</td>\n",
       "      <td>NaN</td>\n",
       "      <td>NaN</td>\n",
       "      <td>NaN</td>\n",
       "      <td>NaN</td>\n",
       "      <td>NaN</td>\n",
       "      <td>NaN</td>\n",
       "      <td>False</td>\n",
       "      <td>119292</td>\n",
       "      <td>NaN</td>\n",
       "      <td>NaN</td>\n",
       "      <td>NaN</td>\n",
       "      <td>NaN</td>\n",
       "    </tr>\n",
       "    <tr>\n",
       "      <th>JAEDICKE ROBERT</th>\n",
       "      <td>NaN</td>\n",
       "      <td>NaN</td>\n",
       "      <td>NaN</td>\n",
       "      <td>83750</td>\n",
       "      <td>431750</td>\n",
       "      <td>NaN</td>\n",
       "      <td>44093</td>\n",
       "      <td>NaN</td>\n",
       "      <td>-44093</td>\n",
       "      <td>431750</td>\n",
       "      <td>NaN</td>\n",
       "      <td>NaN</td>\n",
       "      <td>NaN</td>\n",
       "      <td>NaN</td>\n",
       "      <td>NaN</td>\n",
       "      <td>False</td>\n",
       "      <td>108750</td>\n",
       "      <td>-25000</td>\n",
       "      <td>NaN</td>\n",
       "      <td>NaN</td>\n",
       "      <td>NaN</td>\n",
       "    </tr>\n",
       "    <tr>\n",
       "      <th>LEMAISTRE CHARLES</th>\n",
       "      <td>NaN</td>\n",
       "      <td>NaN</td>\n",
       "      <td>NaN</td>\n",
       "      <td>87492</td>\n",
       "      <td>412878</td>\n",
       "      <td>NaN</td>\n",
       "      <td>NaN</td>\n",
       "      <td>NaN</td>\n",
       "      <td>NaN</td>\n",
       "      <td>412878</td>\n",
       "      <td>NaN</td>\n",
       "      <td>NaN</td>\n",
       "      <td>NaN</td>\n",
       "      <td>NaN</td>\n",
       "      <td>NaN</td>\n",
       "      <td>False</td>\n",
       "      <td>112492</td>\n",
       "      <td>-25000</td>\n",
       "      <td>NaN</td>\n",
       "      <td>NaN</td>\n",
       "      <td>NaN</td>\n",
       "    </tr>\n",
       "    <tr>\n",
       "      <th>MENDELSOHN JOHN</th>\n",
       "      <td>NaN</td>\n",
       "      <td>NaN</td>\n",
       "      <td>NaN</td>\n",
       "      <td>148</td>\n",
       "      <td>NaN</td>\n",
       "      <td>NaN</td>\n",
       "      <td>NaN</td>\n",
       "      <td>NaN</td>\n",
       "      <td>NaN</td>\n",
       "      <td>NaN</td>\n",
       "      <td>148</td>\n",
       "      <td>NaN</td>\n",
       "      <td>NaN</td>\n",
       "      <td>NaN</td>\n",
       "      <td>NaN</td>\n",
       "      <td>False</td>\n",
       "      <td>103750</td>\n",
       "      <td>-103750</td>\n",
       "      <td>NaN</td>\n",
       "      <td>NaN</td>\n",
       "      <td>NaN</td>\n",
       "    </tr>\n",
       "    <tr>\n",
       "      <th>MEYER JEROME J</th>\n",
       "      <td>NaN</td>\n",
       "      <td>NaN</td>\n",
       "      <td>NaN</td>\n",
       "      <td>2151</td>\n",
       "      <td>NaN</td>\n",
       "      <td>NaN</td>\n",
       "      <td>NaN</td>\n",
       "      <td>NaN</td>\n",
       "      <td>NaN</td>\n",
       "      <td>NaN</td>\n",
       "      <td>2151</td>\n",
       "      <td>NaN</td>\n",
       "      <td>NaN</td>\n",
       "      <td>NaN</td>\n",
       "      <td>NaN</td>\n",
       "      <td>False</td>\n",
       "      <td>38346</td>\n",
       "      <td>-38346</td>\n",
       "      <td>NaN</td>\n",
       "      <td>NaN</td>\n",
       "      <td>NaN</td>\n",
       "    </tr>\n",
       "    <tr>\n",
       "      <th>PEREIRA PAULO V. FERRAZ</th>\n",
       "      <td>NaN</td>\n",
       "      <td>NaN</td>\n",
       "      <td>NaN</td>\n",
       "      <td>27942</td>\n",
       "      <td>NaN</td>\n",
       "      <td>NaN</td>\n",
       "      <td>NaN</td>\n",
       "      <td>NaN</td>\n",
       "      <td>NaN</td>\n",
       "      <td>NaN</td>\n",
       "      <td>27942</td>\n",
       "      <td>NaN</td>\n",
       "      <td>NaN</td>\n",
       "      <td>NaN</td>\n",
       "      <td>NaN</td>\n",
       "      <td>False</td>\n",
       "      <td>101250</td>\n",
       "      <td>-101250</td>\n",
       "      <td>NaN</td>\n",
       "      <td>NaN</td>\n",
       "      <td>NaN</td>\n",
       "    </tr>\n",
       "    <tr>\n",
       "      <th>POWERS WILLIAM</th>\n",
       "      <td>NaN</td>\n",
       "      <td>653</td>\n",
       "      <td>NaN</td>\n",
       "      <td>NaN</td>\n",
       "      <td>NaN</td>\n",
       "      <td>NaN</td>\n",
       "      <td>NaN</td>\n",
       "      <td>12</td>\n",
       "      <td>NaN</td>\n",
       "      <td>NaN</td>\n",
       "      <td>NaN</td>\n",
       "      <td>NaN</td>\n",
       "      <td>26</td>\n",
       "      <td>NaN</td>\n",
       "      <td>0</td>\n",
       "      <td>False</td>\n",
       "      <td>17500</td>\n",
       "      <td>-17500</td>\n",
       "      <td>NaN</td>\n",
       "      <td>ken.powers@enron.com</td>\n",
       "      <td>0</td>\n",
       "    </tr>\n",
       "    <tr>\n",
       "      <th>SAVAGE FRANK</th>\n",
       "      <td>NaN</td>\n",
       "      <td>NaN</td>\n",
       "      <td>NaN</td>\n",
       "      <td>3750</td>\n",
       "      <td>NaN</td>\n",
       "      <td>NaN</td>\n",
       "      <td>NaN</td>\n",
       "      <td>NaN</td>\n",
       "      <td>NaN</td>\n",
       "      <td>NaN</td>\n",
       "      <td>NaN</td>\n",
       "      <td>NaN</td>\n",
       "      <td>NaN</td>\n",
       "      <td>NaN</td>\n",
       "      <td>NaN</td>\n",
       "      <td>False</td>\n",
       "      <td>125034</td>\n",
       "      <td>-121284</td>\n",
       "      <td>NaN</td>\n",
       "      <td>NaN</td>\n",
       "      <td>NaN</td>\n",
       "    </tr>\n",
       "    <tr>\n",
       "      <th>TOTAL</th>\n",
       "      <td>26704229</td>\n",
       "      <td>NaN</td>\n",
       "      <td>32083396</td>\n",
       "      <td>309886585</td>\n",
       "      <td>311764000</td>\n",
       "      <td>97343619</td>\n",
       "      <td>130322299</td>\n",
       "      <td>NaN</td>\n",
       "      <td>-7576788</td>\n",
       "      <td>434509511</td>\n",
       "      <td>5235198</td>\n",
       "      <td>83925000</td>\n",
       "      <td>NaN</td>\n",
       "      <td>42667589</td>\n",
       "      <td>NaN</td>\n",
       "      <td>False</td>\n",
       "      <td>1398517</td>\n",
       "      <td>-27992891</td>\n",
       "      <td>48521928</td>\n",
       "      <td>NaN</td>\n",
       "      <td>NaN</td>\n",
       "    </tr>\n",
       "    <tr>\n",
       "      <th>URQUHART JOHN A</th>\n",
       "      <td>NaN</td>\n",
       "      <td>NaN</td>\n",
       "      <td>NaN</td>\n",
       "      <td>228656</td>\n",
       "      <td>NaN</td>\n",
       "      <td>NaN</td>\n",
       "      <td>NaN</td>\n",
       "      <td>NaN</td>\n",
       "      <td>NaN</td>\n",
       "      <td>NaN</td>\n",
       "      <td>228656</td>\n",
       "      <td>NaN</td>\n",
       "      <td>NaN</td>\n",
       "      <td>NaN</td>\n",
       "      <td>NaN</td>\n",
       "      <td>False</td>\n",
       "      <td>36666</td>\n",
       "      <td>-36666</td>\n",
       "      <td>NaN</td>\n",
       "      <td>NaN</td>\n",
       "      <td>NaN</td>\n",
       "    </tr>\n",
       "    <tr>\n",
       "      <th>WAKEHAM JOHN</th>\n",
       "      <td>NaN</td>\n",
       "      <td>NaN</td>\n",
       "      <td>NaN</td>\n",
       "      <td>213071</td>\n",
       "      <td>NaN</td>\n",
       "      <td>NaN</td>\n",
       "      <td>NaN</td>\n",
       "      <td>NaN</td>\n",
       "      <td>NaN</td>\n",
       "      <td>NaN</td>\n",
       "      <td>103773</td>\n",
       "      <td>NaN</td>\n",
       "      <td>NaN</td>\n",
       "      <td>NaN</td>\n",
       "      <td>NaN</td>\n",
       "      <td>False</td>\n",
       "      <td>109298</td>\n",
       "      <td>NaN</td>\n",
       "      <td>NaN</td>\n",
       "      <td>NaN</td>\n",
       "      <td>NaN</td>\n",
       "    </tr>\n",
       "    <tr>\n",
       "      <th>WINOKUR JR. HERBERT S</th>\n",
       "      <td>NaN</td>\n",
       "      <td>NaN</td>\n",
       "      <td>NaN</td>\n",
       "      <td>84992</td>\n",
       "      <td>NaN</td>\n",
       "      <td>NaN</td>\n",
       "      <td>NaN</td>\n",
       "      <td>NaN</td>\n",
       "      <td>NaN</td>\n",
       "      <td>NaN</td>\n",
       "      <td>1413</td>\n",
       "      <td>NaN</td>\n",
       "      <td>NaN</td>\n",
       "      <td>NaN</td>\n",
       "      <td>NaN</td>\n",
       "      <td>False</td>\n",
       "      <td>108579</td>\n",
       "      <td>-25000</td>\n",
       "      <td>NaN</td>\n",
       "      <td>NaN</td>\n",
       "      <td>NaN</td>\n",
       "    </tr>\n",
       "  </tbody>\n",
       "</table>\n",
       "</div>"
      ],
      "text/plain": [
       "                           salary to_messages deferral_payments  \\\n",
       "BELFER ROBERT                 NaN         NaN           -102500   \n",
       "BHATNAGAR SANJAY              NaN         523               NaN   \n",
       "BLAKE JR. NORMAN P            NaN         NaN               NaN   \n",
       "CHAN RONNIE                   NaN         NaN               NaN   \n",
       "DUNCAN JOHN H                 NaN         NaN               NaN   \n",
       "GRAMM WENDY L                 NaN         NaN               NaN   \n",
       "JAEDICKE ROBERT               NaN         NaN               NaN   \n",
       "LEMAISTRE CHARLES             NaN         NaN               NaN   \n",
       "MENDELSOHN JOHN               NaN         NaN               NaN   \n",
       "MEYER JEROME J                NaN         NaN               NaN   \n",
       "PEREIRA PAULO V. FERRAZ       NaN         NaN               NaN   \n",
       "POWERS WILLIAM                NaN         653               NaN   \n",
       "SAVAGE FRANK                  NaN         NaN               NaN   \n",
       "TOTAL                    26704229         NaN          32083396   \n",
       "URQUHART JOHN A               NaN         NaN               NaN   \n",
       "WAKEHAM JOHN                  NaN         NaN               NaN   \n",
       "WINOKUR JR. HERBERT S         NaN         NaN               NaN   \n",
       "\n",
       "                        total_payments exercised_stock_options     bonus  \\\n",
       "BELFER ROBERT                   102500                    3285       NaN   \n",
       "BHATNAGAR SANJAY              15456290                 2604490       NaN   \n",
       "BLAKE JR. NORMAN P                1279                     NaN       NaN   \n",
       "CHAN RONNIE                        NaN                     NaN       NaN   \n",
       "DUNCAN JOHN H                    77492                  371750       NaN   \n",
       "GRAMM WENDY L                   119292                     NaN       NaN   \n",
       "JAEDICKE ROBERT                  83750                  431750       NaN   \n",
       "LEMAISTRE CHARLES                87492                  412878       NaN   \n",
       "MENDELSOHN JOHN                    148                     NaN       NaN   \n",
       "MEYER JEROME J                    2151                     NaN       NaN   \n",
       "PEREIRA PAULO V. FERRAZ          27942                     NaN       NaN   \n",
       "POWERS WILLIAM                     NaN                     NaN       NaN   \n",
       "SAVAGE FRANK                      3750                     NaN       NaN   \n",
       "TOTAL                        309886585               311764000  97343619   \n",
       "URQUHART JOHN A                 228656                     NaN       NaN   \n",
       "WAKEHAM JOHN                    213071                     NaN       NaN   \n",
       "WINOKUR JR. HERBERT S            84992                     NaN       NaN   \n",
       "\n",
       "                        restricted_stock shared_receipt_with_poi  \\\n",
       "BELFER ROBERT                        NaN                     NaN   \n",
       "BHATNAGAR SANJAY                -2604490                     463   \n",
       "BLAKE JR. NORMAN P                   NaN                     NaN   \n",
       "CHAN RONNIE                        32460                     NaN   \n",
       "DUNCAN JOHN H                        NaN                     NaN   \n",
       "GRAMM WENDY L                        NaN                     NaN   \n",
       "JAEDICKE ROBERT                    44093                     NaN   \n",
       "LEMAISTRE CHARLES                    NaN                     NaN   \n",
       "MENDELSOHN JOHN                      NaN                     NaN   \n",
       "MEYER JEROME J                       NaN                     NaN   \n",
       "PEREIRA PAULO V. FERRAZ              NaN                     NaN   \n",
       "POWERS WILLIAM                       NaN                      12   \n",
       "SAVAGE FRANK                         NaN                     NaN   \n",
       "TOTAL                          130322299                     NaN   \n",
       "URQUHART JOHN A                      NaN                     NaN   \n",
       "WAKEHAM JOHN                         NaN                     NaN   \n",
       "WINOKUR JR. HERBERT S                NaN                     NaN   \n",
       "\n",
       "                        restricted_stock_deferred total_stock_value expenses  \\\n",
       "BELFER ROBERT                               44093            -44093      NaN   \n",
       "BHATNAGAR SANJAY                         15456290               NaN      NaN   \n",
       "BLAKE JR. NORMAN P                            NaN               NaN     1279   \n",
       "CHAN RONNIE                                -32460               NaN      NaN   \n",
       "DUNCAN JOHN H                                 NaN            371750      NaN   \n",
       "GRAMM WENDY L                                 NaN               NaN      NaN   \n",
       "JAEDICKE ROBERT                            -44093            431750      NaN   \n",
       "LEMAISTRE CHARLES                             NaN            412878      NaN   \n",
       "MENDELSOHN JOHN                               NaN               NaN      148   \n",
       "MEYER JEROME J                                NaN               NaN     2151   \n",
       "PEREIRA PAULO V. FERRAZ                       NaN               NaN    27942   \n",
       "POWERS WILLIAM                                NaN               NaN      NaN   \n",
       "SAVAGE FRANK                                  NaN               NaN      NaN   \n",
       "TOTAL                                    -7576788         434509511  5235198   \n",
       "URQUHART JOHN A                               NaN               NaN   228656   \n",
       "WAKEHAM JOHN                                  NaN               NaN   103773   \n",
       "WINOKUR JR. HERBERT S                         NaN               NaN     1413   \n",
       "\n",
       "                        loan_advances from_messages     other  \\\n",
       "BELFER ROBERT                     NaN           NaN       NaN   \n",
       "BHATNAGAR SANJAY                  NaN            29    137864   \n",
       "BLAKE JR. NORMAN P                NaN           NaN       NaN   \n",
       "CHAN RONNIE                       NaN           NaN       NaN   \n",
       "DUNCAN JOHN H                     NaN           NaN       NaN   \n",
       "GRAMM WENDY L                     NaN           NaN       NaN   \n",
       "JAEDICKE ROBERT                   NaN           NaN       NaN   \n",
       "LEMAISTRE CHARLES                 NaN           NaN       NaN   \n",
       "MENDELSOHN JOHN                   NaN           NaN       NaN   \n",
       "MEYER JEROME J                    NaN           NaN       NaN   \n",
       "PEREIRA PAULO V. FERRAZ           NaN           NaN       NaN   \n",
       "POWERS WILLIAM                    NaN            26       NaN   \n",
       "SAVAGE FRANK                      NaN           NaN       NaN   \n",
       "TOTAL                        83925000           NaN  42667589   \n",
       "URQUHART JOHN A                   NaN           NaN       NaN   \n",
       "WAKEHAM JOHN                      NaN           NaN       NaN   \n",
       "WINOKUR JR. HERBERT S             NaN           NaN       NaN   \n",
       "\n",
       "                        from_this_person_to_poi    poi director_fees  \\\n",
       "BELFER ROBERT                               NaN  False          3285   \n",
       "BHATNAGAR SANJAY                              1  False        137864   \n",
       "BLAKE JR. NORMAN P                          NaN  False        113784   \n",
       "CHAN RONNIE                                 NaN  False         98784   \n",
       "DUNCAN JOHN H                               NaN  False        102492   \n",
       "GRAMM WENDY L                               NaN  False        119292   \n",
       "JAEDICKE ROBERT                             NaN  False        108750   \n",
       "LEMAISTRE CHARLES                           NaN  False        112492   \n",
       "MENDELSOHN JOHN                             NaN  False        103750   \n",
       "MEYER JEROME J                              NaN  False         38346   \n",
       "PEREIRA PAULO V. FERRAZ                     NaN  False        101250   \n",
       "POWERS WILLIAM                                0  False         17500   \n",
       "SAVAGE FRANK                                NaN  False        125034   \n",
       "TOTAL                                       NaN  False       1398517   \n",
       "URQUHART JOHN A                             NaN  False         36666   \n",
       "WAKEHAM JOHN                                NaN  False        109298   \n",
       "WINOKUR JR. HERBERT S                       NaN  False        108579   \n",
       "\n",
       "                        deferred_income long_term_incentive  \\\n",
       "BELFER ROBERT                       NaN                 NaN   \n",
       "BHATNAGAR SANJAY                    NaN                 NaN   \n",
       "BLAKE JR. NORMAN P              -113784                 NaN   \n",
       "CHAN RONNIE                      -98784                 NaN   \n",
       "DUNCAN JOHN H                    -25000                 NaN   \n",
       "GRAMM WENDY L                       NaN                 NaN   \n",
       "JAEDICKE ROBERT                  -25000                 NaN   \n",
       "LEMAISTRE CHARLES                -25000                 NaN   \n",
       "MENDELSOHN JOHN                 -103750                 NaN   \n",
       "MEYER JEROME J                   -38346                 NaN   \n",
       "PEREIRA PAULO V. FERRAZ         -101250                 NaN   \n",
       "POWERS WILLIAM                   -17500                 NaN   \n",
       "SAVAGE FRANK                    -121284                 NaN   \n",
       "TOTAL                         -27992891            48521928   \n",
       "URQUHART JOHN A                  -36666                 NaN   \n",
       "WAKEHAM JOHN                        NaN                 NaN   \n",
       "WINOKUR JR. HERBERT S            -25000                 NaN   \n",
       "\n",
       "                                      email_address from_poi_to_this_person  \n",
       "BELFER ROBERT                                   NaN                     NaN  \n",
       "BHATNAGAR SANJAY         sanjay.bhatnagar@enron.com                       0  \n",
       "BLAKE JR. NORMAN P                              NaN                     NaN  \n",
       "CHAN RONNIE                                     NaN                     NaN  \n",
       "DUNCAN JOHN H                                   NaN                     NaN  \n",
       "GRAMM WENDY L                                   NaN                     NaN  \n",
       "JAEDICKE ROBERT                                 NaN                     NaN  \n",
       "LEMAISTRE CHARLES                               NaN                     NaN  \n",
       "MENDELSOHN JOHN                                 NaN                     NaN  \n",
       "MEYER JEROME J                                  NaN                     NaN  \n",
       "PEREIRA PAULO V. FERRAZ                         NaN                     NaN  \n",
       "POWERS WILLIAM                 ken.powers@enron.com                       0  \n",
       "SAVAGE FRANK                                    NaN                     NaN  \n",
       "TOTAL                                           NaN                     NaN  \n",
       "URQUHART JOHN A                                 NaN                     NaN  \n",
       "WAKEHAM JOHN                                    NaN                     NaN  \n",
       "WINOKUR JR. HERBERT S                           NaN                     NaN  "
      ]
     },
     "execution_count": 14,
     "metadata": {},
     "output_type": "execute_result"
    }
   ],
   "source": [
    "dataset[dataset['director_fees']!='NaN']"
   ]
  },
  {
   "cell_type": "markdown",
   "metadata": {},
   "source": [
    "Regarding the ***director_fees*** feature, only 17 instances contains valid value. What calls attention in this case is that most of the other features has **NaN** values, which brings suspection that maybe they refers to false names. Surely something that must be checked later. "
   ]
  },
  {
   "cell_type": "markdown",
   "metadata": {},
   "source": [
    "<a id='sec2.3'></a>\n",
    "### 2.3 Converting string \"NaN\" to numpy.NaN\n",
    "From the previous output, it was clear there are some 'NaN' in string type instead of numerical or numpy type, which causes some troubles when plotting data or using some classifier. Due to this, the next step is to scan the dataset for 'NaN' string and replace it by numpy.NaN."
   ]
  },
  {
   "cell_type": "code",
   "execution_count": 15,
   "metadata": {
    "collapsed": false,
    "scrolled": true
   },
   "outputs": [],
   "source": [
    "for column in dataset.columns:\n",
    "    dataset[column] = dataset[column].apply(lambda x: np.NaN if x == 'NaN' else x)"
   ]
  },
  {
   "cell_type": "code",
   "execution_count": 16,
   "metadata": {
    "collapsed": false,
    "scrolled": true
   },
   "outputs": [
    {
     "name": "stdout",
     "output_type": "stream",
     "text": [
      "<class 'pandas.core.frame.DataFrame'>\n",
      "Index: 146 entries, ALLEN PHILLIP K to YEAP SOON\n",
      "Data columns (total 21 columns):\n",
      "salary                       95 non-null float64\n",
      "to_messages                  86 non-null float64\n",
      "deferral_payments            39 non-null float64\n",
      "total_payments               125 non-null float64\n",
      "exercised_stock_options      102 non-null float64\n",
      "bonus                        82 non-null float64\n",
      "restricted_stock             110 non-null float64\n",
      "shared_receipt_with_poi      86 non-null float64\n",
      "restricted_stock_deferred    18 non-null float64\n",
      "total_stock_value            126 non-null float64\n",
      "expenses                     95 non-null float64\n",
      "loan_advances                4 non-null float64\n",
      "from_messages                86 non-null float64\n",
      "other                        93 non-null float64\n",
      "from_this_person_to_poi      86 non-null float64\n",
      "poi                          146 non-null bool\n",
      "director_fees                17 non-null float64\n",
      "deferred_income              49 non-null float64\n",
      "long_term_incentive          66 non-null float64\n",
      "email_address                111 non-null object\n",
      "from_poi_to_this_person      86 non-null float64\n",
      "dtypes: bool(1), float64(19), object(1)\n",
      "memory usage: 29.1+ KB\n"
     ]
    }
   ],
   "source": [
    "## Checking the dataset information:\n",
    "dataset.info()"
   ]
  },
  {
   "cell_type": "markdown",
   "metadata": {},
   "source": [
    "<a id='sec2.4'></a>\n",
    "### 2.4 Counting valid data\n",
    "As seen before, there are many null data in our dataset. In order to select the most appropriate features to explore, we will look for those that are present at least in 70% of the dataset. Considering there are 21 features (from which 70% is approximate to 15 features), we will first observe which instances have more than 15 not null values and choose the most complete features from this selection."
   ]
  },
  {
   "cell_type": "code",
   "execution_count": 17,
   "metadata": {
    "collapsed": false
   },
   "outputs": [],
   "source": [
    "notNullDataset = dataset.dropna(thresh=15)"
   ]
  },
  {
   "cell_type": "code",
   "execution_count": 18,
   "metadata": {
    "collapsed": false
   },
   "outputs": [
    {
     "name": "stdout",
     "output_type": "stream",
     "text": [
      "<class 'pandas.core.frame.DataFrame'>\n",
      "Index: 58 entries, ALLEN PHILLIP K to WHALLEY LAWRENCE G\n",
      "Data columns (total 21 columns):\n",
      "salary                       58 non-null float64\n",
      "to_messages                  57 non-null float64\n",
      "deferral_payments            16 non-null float64\n",
      "total_payments               58 non-null float64\n",
      "exercised_stock_options      51 non-null float64\n",
      "bonus                        54 non-null float64\n",
      "restricted_stock             57 non-null float64\n",
      "shared_receipt_with_poi      57 non-null float64\n",
      "restricted_stock_deferred    7 non-null float64\n",
      "total_stock_value            57 non-null float64\n",
      "expenses                     52 non-null float64\n",
      "loan_advances                3 non-null float64\n",
      "from_messages                57 non-null float64\n",
      "other                        58 non-null float64\n",
      "from_this_person_to_poi      57 non-null float64\n",
      "poi                          58 non-null bool\n",
      "director_fees                1 non-null float64\n",
      "deferred_income              26 non-null float64\n",
      "long_term_incentive          46 non-null float64\n",
      "email_address                57 non-null object\n",
      "from_poi_to_this_person      57 non-null float64\n",
      "dtypes: bool(1), float64(19), object(1)\n",
      "memory usage: 9.6+ KB\n"
     ]
    }
   ],
   "source": [
    "notNullDataset.info()"
   ]
  },
  {
   "cell_type": "markdown",
   "metadata": {},
   "source": [
    "From the output above, the features named *deferral_payments; restricted_stock_deferred;* and *director_fees* are removed. Doing so the pre-selected features list can be defined accordingly to its context:"
   ]
  },
  {
   "cell_type": "code",
   "execution_count": 19,
   "metadata": {
    "collapsed": true
   },
   "outputs": [],
   "source": [
    "## Only numerical features are being considered here\n",
    "financialFeatures = ['salary','bonus', 'exercised_stock_options', 'restricted_stock', 'shared_receipt_with_poi',\n",
    "                     'total_payments', 'expenses', 'total_stock_value', 'deferred_income', 'long_term_incentive']\n",
    "behavioralFeatures = ['to_messages', 'from_messages', 'from_poi_to_this_person', 'from_this_person_to_poi', 'other']\n",
    "allFeatures = ['poi','salary','bonus', 'exercised_stock_options', 'restricted_stock', 'shared_receipt_with_poi',\n",
    "               'total_payments', 'expenses', 'total_stock_value', 'deferred_income', 'long_term_incentive',\n",
    "               'to_messages', 'from_messages', 'from_poi_to_this_person', 'from_this_person_to_poi', 'other']"
   ]
  },
  {
   "cell_type": "markdown",
   "metadata": {},
   "source": [
    "Since in the *feature_format()* method the \"NaN\" strings are replaced by zeros, we need to make this adjustment here."
   ]
  },
  {
   "cell_type": "code",
   "execution_count": 20,
   "metadata": {
    "collapsed": true
   },
   "outputs": [],
   "source": [
    "dataset.fillna(0,inplace=True)"
   ]
  },
  {
   "cell_type": "markdown",
   "metadata": {},
   "source": [
    "<a id='sec2.5'></a>\n",
    "### 2.5 Outlier removal\n",
    "In this section we look for identifying and, if it is the case, removing outliers in our dataset."
   ]
  },
  {
   "cell_type": "markdown",
   "metadata": {},
   "source": [
    "<a id='sec2.5.1'></a>\n",
    "### 2.5.1 Visualizing data by features\n",
    "The objective here is to visualize how the data is distributed accordingly to each feature, as well as identifying outliers through visual inspection. For this we make use of a function build based on the code available in (http://stamfordresearch.com/outlier-removal-in-python-using-iqr-rule/)"
   ]
  },
  {
   "cell_type": "code",
   "execution_count": 21,
   "metadata": {
    "collapsed": true
   },
   "outputs": [],
   "source": [
    "def visualizeFeat(series, figsize):\n",
    "    ''' series = pandas.series, which can be inputed as \"dataframe['feature']\n",
    "        figsize = (width,length)'''\n",
    "    fig, axes = plt.subplots(2,1,figsize=figsize, sharex=True)\n",
    "    series.plot(kind='kde', ax=axes[0])\n",
    "    sns.boxplot(x=series, ax=axes[1])\n",
    "    plt.xlim(series.min(), series.max()*1.1)\n",
    "    return"
   ]
  },
  {
   "cell_type": "markdown",
   "metadata": {},
   "source": [
    "The function above seems useful to get information for only one variable. Since we want to explore the whole dataset (or at least a good chunk of it), we will code a function to show them all:"
   ]
  },
  {
   "cell_type": "code",
   "execution_count": 22,
   "metadata": {
    "collapsed": true
   },
   "outputs": [],
   "source": [
    "def visualize3Feats(dataset, features):\n",
    "    '''Shows the distribution and the boxplot for the given features of a pandas.Dataframe:\n",
    "        dataset = pandas dataframe.\n",
    "        features = list of features of interest'''\n",
    "    ## Building the Figure:\n",
    "    fig, axes = plt.subplots(2,3,figsize=(15,6), sharex=False)\n",
    "    for col, feat in enumerate(features):\n",
    "        dataset[feat].plot(kind='kde', ax=axes[0,col])\n",
    "        sns.boxplot(x=dataset[feat], ax=axes[1,col])\n",
    "        axes[0,col].set_xlim(dataset[feat].min(), dataset[feat].max()*1.1);\n",
    "        axes[1,col].set_xlim(dataset[feat].min(), dataset[feat].max()*1.1);\n",
    "    return"
   ]
  },
  {
   "cell_type": "code",
   "execution_count": 26,
   "metadata": {
    "collapsed": false
   },
   "outputs": [
    {
     "data": {
      "image/png": "[encoded data removed]",
      "text/plain": [
       "<matplotlib.figure.Figure at 0x7f0b695cd150>"
      ]
     },
     "metadata": {},
     "output_type": "display_data"
    },
    {
     "data": {
      "image/png": "[encoded data removed]",
      "text/plain": [
       "<matplotlib.figure.Figure at 0x7f0b69af1690>"
      ]
     },
     "metadata": {},
     "output_type": "display_data"
    },
    {
     "data": {
      "image/png": "[encoded data removed]",
      "text/plain": [
       "<matplotlib.figure.Figure at 0x7f0b69731e50>"
      ]
     },
     "metadata": {},
     "output_type": "display_data"
    },
    {
     "data": {
      "image/png": "[encoded data removed]",
      "text/plain": [
       "<matplotlib.figure.Figure at 0x7f0b68c71a90>"
      ]
     },
     "metadata": {},
     "output_type": "display_data"
    }
   ],
   "source": [
    "### Visualizing financial features:\n",
    "numPlots = int(np.ceil(len(financialFeatures)/3.))\n",
    "for i in range(numPlots):\n",
    "    shift = i*3\n",
    "    visualize3Feats(dataset,financialFeatures[0+shift:3+shift])"
   ]
  },
  {
   "cell_type": "markdown",
   "metadata": {},
   "source": [
    "From the charts above, it becomes evident there is at least one strong outlier sample (which in fact was identified during the lesson as the TOTAL instance). Even after removing it (see Section 2.4.2) there are still remaining outliers. However, since they are probably related to what we are looking for, they won't be removed."
   ]
  },
  {
   "cell_type": "markdown",
   "metadata": {},
   "source": [
    "<a id='sec2.5.2'></a>\n",
    "### 2.5.2 Removing **TOTAL** instance\n",
    "As observed before, the \"TOTAL\" instance must be removed, since we are interested only on POIs."
   ]
  },
  {
   "cell_type": "code",
   "execution_count": 25,
   "metadata": {
    "collapsed": false
   },
   "outputs": [],
   "source": [
    "dataset.drop('TOTAL',inplace=True)  #Removing the anomalous instance"
   ]
  },
  {
   "cell_type": "markdown",
   "metadata": {},
   "source": [
    "<a id='sec2.6'></a>\n",
    "### 2.6 Checking the class distribution"
   ]
  },
  {
   "cell_type": "code",
   "execution_count": 27,
   "metadata": {
    "collapsed": false
   },
   "outputs": [
    {
     "data": {
      "text/plain": [
       "False    127\n",
       "True      18\n",
       "Name: poi, dtype: int64"
      ]
     },
     "execution_count": 27,
     "metadata": {},
     "output_type": "execute_result"
    }
   ],
   "source": [
    "## Counting gender classes\n",
    "dataset['poi'].value_counts()"
   ]
  },
  {
   "cell_type": "markdown",
   "metadata": {},
   "source": [
    "<a id='sec2.7'></a>\n",
    "### 2.7 Stratified data split\n",
    "Besides we can extract features from the whole dataset, when we are training machine learning algorithms is really important to split the data into training and testing subsets, in order to avoid overfitting. But as seen above, our data is unbalanced and so it is important to split data in a stratified way, i.e., each subset must have the same proportion of each class."
   ]
  },
  {
   "cell_type": "code",
   "execution_count": null,
   "metadata": {
    "collapsed": true
   },
   "outputs": [],
   "source": [
    "from sklearn.cross_validation import train_test_split"
   ]
  },
  {
   "cell_type": "code",
   "execution_count": null,
   "metadata": {
    "collapsed": true
   },
   "outputs": [],
   "source": [
    "## For pandas.Dataframe the train_test_split is given in a straight way:\n",
    "trainData, testData = train_test_split(dataset, test_size=0.3, random_state=42, stratify=dataset['poi'])"
   ]
  },
  {
   "cell_type": "code",
   "execution_count": null,
   "metadata": {
    "collapsed": false
   },
   "outputs": [],
   "source": [
    "## Evaluating the class distribution:\n",
    "fig2, axes2 = plt.subplots(1,3,figsize=(15,3), sharex=False);\n",
    "dataset['poi'].plot(kind='hist', ax=axes2[0], title='Total dataset');\n",
    "trainData['poi'].plot(kind='hist', ax=axes2[1], title='Train subset');\n",
    "testData['poi'].plot(kind='hist', ax=axes2[2], title='Test subset');"
   ]
  },
  {
   "cell_type": "markdown",
   "metadata": {},
   "source": [
    "<a id='sec3'></a>\n",
    "## 3. Feature extraction\n",
    "**Note:** the initial approach was to split the dataset and to build out new features from the test data. However, since the 'poi_id.py' suggested by Udacity splits the data only after the feature engineering, we will then use the original dataset, splitting it up only before machine learning training."
   ]
  },
  {
   "cell_type": "markdown",
   "metadata": {},
   "source": [
    "<a id='sec3.1'></a>\n",
    "### 3.1 Verifying correlation among features\n",
    "Considering feature extraction, high correlated variables usually are useless for machine learning classification. In this case, it's better to use uncorrelated variables as features, in the way they are orthogonal to each other and so brings on different information aspects from data.  \n",
    "\n",
    "To check which features are correlated or not we will then use a method from pandas library (http://pandas.pydata.org/pandas-docs/version/0.22/generated/pandas.DataFrame.corr.html) and show it through a heatmap to make easier the visualization, as follow:"
   ]
  },
  {
   "cell_type": "code",
   "execution_count": 28,
   "metadata": {
    "collapsed": false,
    "scrolled": false
   },
   "outputs": [
    {
     "data": {
      "image/png": "[encoded data removed]",
      "text/plain": [
       "<matplotlib.figure.Figure at 0x7f0b697a7ad0>"
      ]
     },
     "metadata": {},
     "output_type": "display_data"
    }
   ],
   "source": [
    "## Calculating the correlation among features by Pearson method\n",
    "correlationDataframe = dataset[allFeatures].corr()\n",
    "\n",
    "# Drawing a heatmap with the numeric values in each cell\n",
    "fig1, ax = plt.subplots(figsize=(14,10))\n",
    "fig1.subplots_adjust(top=.945)\n",
    "plt.suptitle('Features correlation from the Enron POI dataset', fontsize=14, fontweight='bold')\n",
    "\n",
    "cbar_kws = {'orientation':\"vertical\", 'pad':0.025, 'aspect':70}\n",
    "sns.heatmap(correlationDataframe, annot=True, fmt='.2f', linewidths=.3, ax=ax, cbar_kws=cbar_kws);"
   ]
  },
  {
   "cell_type": "markdown",
   "metadata": {},
   "source": [
    "<a id='sec3.2'></a>\n",
    "### 3.2 Applying PCA on correlated features to generate a new one\n",
    "Since the financial features are highly correlated, as seen above, we will now apply PCA to generate an only one new feature from them. "
   ]
  },
  {
   "cell_type": "code",
   "execution_count": 29,
   "metadata": {
    "collapsed": true
   },
   "outputs": [],
   "source": [
    "from sklearn.decomposition import PCA"
   ]
  },
  {
   "cell_type": "code",
   "execution_count": 30,
   "metadata": {
    "collapsed": false
   },
   "outputs": [
    {
     "data": {
      "text/plain": [
       "['salary',\n",
       " 'bonus',\n",
       " 'exercised_stock_options',\n",
       " 'restricted_stock',\n",
       " 'shared_receipt_with_poi',\n",
       " 'total_payments',\n",
       " 'expenses',\n",
       " 'total_stock_value',\n",
       " 'deferred_income',\n",
       " 'long_term_incentive']"
      ]
     },
     "execution_count": 30,
     "metadata": {},
     "output_type": "execute_result"
    }
   ],
   "source": [
    "## Listing the financial features\n",
    "financialFeatures"
   ]
  },
  {
   "cell_type": "code",
   "execution_count": 31,
   "metadata": {
    "collapsed": false
   },
   "outputs": [
    {
     "data": {
      "text/plain": [
       "PCA(copy=True, iterated_power='auto', n_components=1, random_state=None,\n",
       "  svd_solver='auto', tol=0.0, whiten=False)"
      ]
     },
     "execution_count": 31,
     "metadata": {},
     "output_type": "execute_result"
    }
   ],
   "source": [
    "## Defining only one resulting component:\n",
    "pca = PCA(n_components=1)\n",
    "pca.fit(dataset[financialFeatures])"
   ]
  },
  {
   "cell_type": "code",
   "execution_count": 32,
   "metadata": {
    "collapsed": true
   },
   "outputs": [],
   "source": [
    "pcaComponents = pca.fit_transform(dataset[financialFeatures])"
   ]
  },
  {
   "cell_type": "code",
   "execution_count": 33,
   "metadata": {
    "collapsed": false
   },
   "outputs": [],
   "source": [
    "dataset['financial'] = pcaComponents"
   ]
  },
  {
   "cell_type": "code",
   "execution_count": 34,
   "metadata": {
    "collapsed": false
   },
   "outputs": [
    {
     "data": {
      "image/png": "[encoded data removed]",
      "text/plain": [
       "<matplotlib.figure.Figure at 0x7f0b68cfa350>"
      ]
     },
     "metadata": {},
     "output_type": "display_data"
    }
   ],
   "source": [
    "sns.pairplot(dataset,hue='poi',vars=['salary','bonus'], diag_kind='kde');"
   ]
  },
  {
   "cell_type": "code",
   "execution_count": 35,
   "metadata": {
    "collapsed": false
   },
   "outputs": [
    {
     "data": {
      "image/png": "[encoded data removed]",
      "text/plain": [
       "<matplotlib.figure.Figure at 0x7f0b68e3e590>"
      ]
     },
     "metadata": {},
     "output_type": "display_data"
    }
   ],
   "source": [
    "sns.pairplot(dataset,hue='poi',vars=['salary','financial'], diag_kind='kde');"
   ]
  },
  {
   "cell_type": "markdown",
   "metadata": {},
   "source": [
    "<a id='sec3.3'></a>\n",
    "### 3.3 Univariate feature selection"
   ]
  },
  {
   "cell_type": "code",
   "execution_count": 37,
   "metadata": {
    "collapsed": true
   },
   "outputs": [],
   "source": [
    "## Adding up the new 'financial' feature to the 'allFeatures' list:\n",
    "allFeatures.append('financial')\n",
    "financialFeatures.append('financial')"
   ]
  },
  {
   "cell_type": "code",
   "execution_count": 38,
   "metadata": {
    "collapsed": false
   },
   "outputs": [
    {
     "data": {
      "text/plain": [
       "['poi',\n",
       " 'salary',\n",
       " 'bonus',\n",
       " 'exercised_stock_options',\n",
       " 'restricted_stock',\n",
       " 'shared_receipt_with_poi',\n",
       " 'total_payments',\n",
       " 'expenses',\n",
       " 'total_stock_value',\n",
       " 'deferred_income',\n",
       " 'long_term_incentive',\n",
       " 'to_messages',\n",
       " 'from_messages',\n",
       " 'from_poi_to_this_person',\n",
       " 'from_this_person_to_poi',\n",
       " 'other',\n",
       " 'financial']"
      ]
     },
     "execution_count": 38,
     "metadata": {},
     "output_type": "execute_result"
    }
   ],
   "source": [
    "allFeatures"
   ]
  },
  {
   "cell_type": "markdown",
   "metadata": {},
   "source": [
    "The code below is based on the example available in http://scikit-learn.org/stable/auto_examples/feature_selection/plot_feature_selection.html#sphx-glr-auto-examples-feature-selection-plot-feature-selection-py, in which an univariate feature selection is applied. "
   ]
  },
  {
   "cell_type": "code",
   "execution_count": 39,
   "metadata": {
    "collapsed": false
   },
   "outputs": [
    {
     "data": {
      "text/plain": [
       "SelectPercentile(percentile=5,\n",
       "         score_func=<function f_classif at 0x7f0b68f549b0>)"
      ]
     },
     "execution_count": 39,
     "metadata": {},
     "output_type": "execute_result"
    }
   ],
   "source": [
    "from sklearn.feature_selection import SelectPercentile, f_classif\n",
    "\n",
    "selectorDataset = dataset[financialFeatures]\n",
    "selectorLabel = dataset['poi']\n",
    "\n",
    "# #############################################################################\n",
    "# Univariate feature selection with F-test for feature scoring\n",
    "# We use the default selection function: the 5% most significant features\n",
    "selector = SelectPercentile(f_classif, percentile=5)\n",
    "selector.fit(selectorDataset, selectorLabel)"
   ]
  },
  {
   "cell_type": "code",
   "execution_count": 40,
   "metadata": {
    "collapsed": false,
    "scrolled": true
   },
   "outputs": [
    {
     "data": {
      "text/plain": [
       "<Container object of 11 artists>"
      ]
     },
     "execution_count": 40,
     "metadata": {},
     "output_type": "execute_result"
    },
    {
     "data": {
      "image/png": "[encoded data removed]",
      "text/plain": [
       "<matplotlib.figure.Figure at 0x7f0b694e9190>"
      ]
     },
     "metadata": {},
     "output_type": "display_data"
    }
   ],
   "source": [
    "## Plotting the features selection: \n",
    "X_indices = np.arange(selectorDataset.shape[-1])\n",
    "scores = -np.log10(selector.pvalues_)\n",
    "scores /= scores.max()\n",
    "plt.bar(X_indices, scores, width=.2,\n",
    "        label=r'Univariate score ($-Log(p_{value})$)', color='darkorange',\n",
    "        edgecolor='black')"
   ]
  },
  {
   "cell_type": "code",
   "execution_count": 41,
   "metadata": {
    "collapsed": false
   },
   "outputs": [
    {
     "data": {
      "text/plain": [
       "11"
      ]
     },
     "execution_count": 41,
     "metadata": {},
     "output_type": "execute_result"
    }
   ],
   "source": [
    "len(scores)"
   ]
  },
  {
   "cell_type": "code",
   "execution_count": 42,
   "metadata": {
    "collapsed": false
   },
   "outputs": [
    {
     "name": "stdout",
     "output_type": "stream",
     "text": [
      "salary :  0.781868634496\n",
      "bonus :  0.865701390131\n",
      "exercised_stock_options :  1.0\n",
      "restricted_stock :  0.444759011199\n",
      "shared_receipt_with_poi :  0.422807978486\n",
      "total_payments :  0.425252199246\n",
      "expenses :  0.324083648885\n",
      "total_stock_value :  0.979465489013\n",
      "deferred_income :  0.528826943386\n",
      "long_term_incentive :  0.4727358214\n",
      "financial :  0.759729734366\n"
     ]
    }
   ],
   "source": [
    "## Printing out the selected financial features: \n",
    "selectedFeatures = ['poi']  #'poi' must be the first one due to the evaluation methods defined by Udacity.\n",
    "for ix, pval in enumerate(scores):\n",
    "    print financialFeatures[ix],': ',pval\n",
    "    if (pval >= 0.45):\n",
    "        selectedFeatures.append(financialFeatures[ix])"
   ]
  },
  {
   "cell_type": "code",
   "execution_count": 43,
   "metadata": {
    "collapsed": false,
    "scrolled": true
   },
   "outputs": [
    {
     "data": {
      "text/plain": [
       "['poi',\n",
       " 'salary',\n",
       " 'bonus',\n",
       " 'exercised_stock_options',\n",
       " 'total_stock_value',\n",
       " 'deferred_income',\n",
       " 'long_term_incentive',\n",
       " 'financial']"
      ]
     },
     "execution_count": 43,
     "metadata": {},
     "output_type": "execute_result"
    }
   ],
   "source": [
    "selectedFeatures"
   ]
  },
  {
   "cell_type": "markdown",
   "metadata": {},
   "source": [
    "<a id='sec3.4'></a>\n",
    "### 3.4. Alternative feature selection\n",
    "Since the PCA applied to the financial features creates a new variable ('financial') which contains the most important components of the others, one alternative is to append it to the behavioral features selected before, in what we call *strategicFeatures*. In the next sections we will evaluate the performance of applying machine learning in this two classes of features."
   ]
  },
  {
   "cell_type": "code",
   "execution_count": 59,
   "metadata": {
    "collapsed": false
   },
   "outputs": [],
   "source": [
    "strategicFeatures = ['poi'] + behavioralFeatures + ['financial']"
   ]
  },
  {
   "cell_type": "code",
   "execution_count": 60,
   "metadata": {
    "collapsed": false,
    "scrolled": false
   },
   "outputs": [
    {
     "data": {
      "text/plain": [
       "['poi',\n",
       " 'to_messages',\n",
       " 'from_messages',\n",
       " 'from_poi_to_this_person',\n",
       " 'from_this_person_to_poi',\n",
       " 'other',\n",
       " 'financial']"
      ]
     },
     "execution_count": 60,
     "metadata": {},
     "output_type": "execute_result"
    }
   ],
   "source": [
    "strategicFeatures"
   ]
  },
  {
   "cell_type": "markdown",
   "metadata": {},
   "source": [
    "<a id='sec3.5'></a>\n",
    "### 3.5. Feature scaling\n",
    "Besides some of the machine learning algorithms chosen for this analysis (Naive Bayes and Adaboost) are invariant to feature scaling (Ref: https://stats.stackexchange.com/questions/244507/what-algorithms-need-feature-scaling-beside-from-svm), since we are also interested in using SVM it is important to apply feature scaling in our dataset. Furthermore, the \"strategicFeatures\" mixes two types of data, the financial data from PCA and the behavioral data from the number of emails sent."
   ]
  },
  {
   "cell_type": "code",
   "execution_count": 120,
   "metadata": {
    "collapsed": false
   },
   "outputs": [],
   "source": [
    "from sklearn.preprocessing import MinMaxScaler\n",
    "\n",
    "scaler = MinMaxScaler()\n",
    "scaler.fit(dataset[allFeatures])\n",
    "dataset[allFeatures] = scaler.transform(dataset[allFeatures])"
   ]
  },
  {
   "cell_type": "markdown",
   "metadata": {},
   "source": [
    "<a id='sec4'></a>\n",
    "## 4. Machine Learning"
   ]
  },
  {
   "cell_type": "code",
   "execution_count": 131,
   "metadata": {
    "collapsed": false
   },
   "outputs": [],
   "source": [
    "## Converting back the pandas Dataframe to the dictionary structure, in order to use the Udacity evaluating code.\n",
    "my_dataset = dataset.to_dict(orient='index')\n",
    "features_list = selectedFeatures\n",
    "#features_list = strategicFeatures\n",
    "\n",
    "### Extract features and labels from dataset for local testing\n",
    "data = featureFormat(my_dataset, features_list, sort_keys = True)\n",
    "labels, features = targetFeatureSplit(data)"
   ]
  },
  {
   "cell_type": "code",
   "execution_count": 132,
   "metadata": {
    "collapsed": false
   },
   "outputs": [],
   "source": [
    "## Splitting the data:\n",
    "# Example starting point. Try investigating other evaluation techniques!\n",
    "from sklearn.cross_validation import train_test_split\n",
    "features_train, features_test, labels_train, labels_test = \\\n",
    "    train_test_split(features, labels, test_size=0.3, random_state=42)"
   ]
  },
  {
   "cell_type": "code",
   "execution_count": 133,
   "metadata": {
    "collapsed": true
   },
   "outputs": [],
   "source": [
    "## Defining an evaluation metric based on (http://scikit-learn.org/stable/modules/model_evaluation.html)\n",
    "from sklearn.metrics import classification_report\n",
    "def evaluateClassif(clf):\n",
    "    classes=['Non-POI','POI']  ## Defining the classes labels\n",
    "    predTrain = clf.predict(features_train)\n",
    "    print('################### Training data ##################')\n",
    "    print(classification_report(labels_train, predTrain, target_names=classes))\n",
    "    \n",
    "    predTest = clf.predict(features_test)\n",
    "    print('################### Testing data ###################')\n",
    "    print(classification_report(labels_test, predTest, target_names=classes))\n",
    "    \n",
    "    return"
   ]
  },
  {
   "cell_type": "code",
   "execution_count": 150,
   "metadata": {
    "collapsed": true
   },
   "outputs": [],
   "source": [
    "## Importing GridSearch algorithm for parameter selection:\n",
    "from sklearn.model_selection import GridSearchCV"
   ]
  },
  {
   "cell_type": "markdown",
   "metadata": {},
   "source": [
    "<a id='sec4.1'></a>\n",
    "### 4.1 Naive Bayes classifier"
   ]
  },
  {
   "cell_type": "code",
   "execution_count": 134,
   "metadata": {
    "collapsed": false
   },
   "outputs": [
    {
     "data": {
      "text/plain": [
       "0.88636363636363635"
      ]
     },
     "execution_count": 134,
     "metadata": {},
     "output_type": "execute_result"
    }
   ],
   "source": [
    "#%%## Task 4: Try a varity of classifiers\n",
    "### Please name your classifier clf for easy export below.\n",
    "### Note that if you want to do PCA or other multi-stage operations,\n",
    "### you'll need to use Pipelines. For more info:\n",
    "### http://scikit-learn.org/stable/modules/pipeline.html\n",
    "# Provided to give you a starting point. Try a variety of classifiers.\n",
    "from sklearn.naive_bayes import GaussianNB\n",
    "clf = GaussianNB()\n",
    "\n",
    "clf.fit(features_train,labels_train)\n",
    "clf.score(features_test,labels_test)"
   ]
  },
  {
   "cell_type": "code",
   "execution_count": 135,
   "metadata": {
    "collapsed": false,
    "scrolled": false
   },
   "outputs": [
    {
     "name": "stdout",
     "output_type": "stream",
     "text": [
      "################### Training data ##################\n",
      "             precision    recall  f1-score   support\n",
      "\n",
      "    Non-POI       0.90      0.93      0.92        87\n",
      "        POI       0.45      0.36      0.40        14\n",
      "\n",
      "avg / total       0.84      0.85      0.84       101\n",
      "\n",
      "################### Testing data ###################\n",
      "             precision    recall  f1-score   support\n",
      "\n",
      "    Non-POI       0.93      0.95      0.94        40\n",
      "        POI       0.33      0.25      0.29         4\n",
      "\n",
      "avg / total       0.87      0.89      0.88        44\n",
      "\n"
     ]
    }
   ],
   "source": [
    "evaluateClassif(clf)"
   ]
  },
  {
   "cell_type": "markdown",
   "metadata": {},
   "source": [
    "<a id='sec4.2'></a>\n",
    "### 4.2 AdaBoost classifier"
   ]
  },
  {
   "cell_type": "markdown",
   "metadata": {},
   "source": [
    "**AGORA FALTA INSERIR O GREADSEARCH... PRA CADA UM DOS CLASSIFICADORES... JUSTIFICAR AS SAÍDAS E ESCOLHER O MELHOR. Depois responder a questão do algoritmo.**"
   ]
  },
  {
   "cell_type": "code",
   "execution_count": 147,
   "metadata": {
    "collapsed": false
   },
   "outputs": [
    {
     "data": {
      "text/plain": [
       "0.75"
      ]
     },
     "execution_count": 147,
     "metadata": {},
     "output_type": "execute_result"
    }
   ],
   "source": [
    "### Adaboost Classifier\n",
    "### http://scikit-learn.org/stable/auto_examples/ensemble/plot_adaboost_twoclass.html#sphx-glr-auto-examples-ensemble-plot-adaboost-twoclass-py\n",
    "from sklearn.ensemble import AdaBoostClassifier\n",
    "from sklearn.tree import DecisionTreeClassifier\n",
    "\n",
    "## Create and fit an AdaBoosted decision tree\n",
    "clf = AdaBoostClassifier(DecisionTreeClassifier(min_samples_split=2),\n",
    "                         algorithm=\"SAMME\",\n",
    "                         n_estimators=900)\n",
    "\n",
    "## Training the algorithm\n",
    "clf.fit(features_train, labels_train)\n",
    "clf.score(features_test,labels_test)"
   ]
  },
  {
   "cell_type": "code",
   "execution_count": 149,
   "metadata": {
    "collapsed": false,
    "scrolled": true
   },
   "outputs": [
    {
     "name": "stdout",
     "output_type": "stream",
     "text": [
      "################### Training data ##################\n",
      "             precision    recall  f1-score   support\n",
      "\n",
      "    Non-POI       1.00      1.00      1.00        87\n",
      "        POI       1.00      1.00      1.00        14\n",
      "\n",
      "avg / total       1.00      1.00      1.00       101\n",
      "\n",
      "################### Testing data ###################\n",
      "             precision    recall  f1-score   support\n",
      "\n",
      "    Non-POI       0.91      0.80      0.85        40\n",
      "        POI       0.11      0.25      0.15         4\n",
      "\n",
      "avg / total       0.84      0.75      0.79        44\n",
      "\n"
     ]
    }
   ],
   "source": [
    "evaluateClassif(clf)"
   ]
  },
  {
   "cell_type": "markdown",
   "metadata": {},
   "source": [
    "<a id='sec4.3'></a>\n",
    "### 4.3. SVM classifier"
   ]
  },
  {
   "cell_type": "code",
   "execution_count": 153,
   "metadata": {
    "collapsed": false
   },
   "outputs": [],
   "source": [
    "from sklearn import svm\n",
    "svm_parameters = {'kernel':('linear','rbf'), 'C':[1,10,50,100,1000]}\n",
    "svr = svm.SVC()"
   ]
  },
  {
   "cell_type": "code",
   "execution_count": 154,
   "metadata": {
    "collapsed": true
   },
   "outputs": [],
   "source": [
    "clf_svc = GridSearchCV(svr, svm_parameters)"
   ]
  },
  {
   "cell_type": "code",
   "execution_count": 156,
   "metadata": {
    "collapsed": false
   },
   "outputs": [
    {
     "data": {
      "text/plain": [
       "GridSearchCV(cv=None, error_score='raise',\n",
       "       estimator=SVC(C=1.0, cache_size=200, class_weight=None, coef0=0.0,\n",
       "  decision_function_shape=None, degree=3, gamma='auto', kernel='rbf',\n",
       "  max_iter=-1, probability=False, random_state=None, shrinking=True,\n",
       "  tol=0.001, verbose=False),\n",
       "       fit_params={}, iid=True, n_jobs=1,\n",
       "       param_grid={'kernel': ('linear', 'rbf'), 'C': [1, 10, 50, 100, 1000]},\n",
       "       pre_dispatch='2*n_jobs', refit=True, return_train_score=True,\n",
       "       scoring=None, verbose=0)"
      ]
     },
     "execution_count": 156,
     "metadata": {},
     "output_type": "execute_result"
    }
   ],
   "source": [
    "clf_svc.fit(features_train, labels_train)"
   ]
  },
  {
   "cell_type": "code",
   "execution_count": 157,
   "metadata": {
    "collapsed": false
   },
   "outputs": [
    {
     "data": {
      "text/plain": [
       "0.90909090909090906"
      ]
     },
     "execution_count": 157,
     "metadata": {},
     "output_type": "execute_result"
    }
   ],
   "source": [
    "clf_svc.score(features_test,labels_test)"
   ]
  },
  {
   "cell_type": "markdown",
   "metadata": {},
   "source": [
    "<a id='sec4.x'></a>\n",
    "### 4.x. Exportind data"
   ]
  },
  {
   "cell_type": "code",
   "execution_count": 108,
   "metadata": {
    "collapsed": false
   },
   "outputs": [],
   "source": [
    "#%%## Task 6: Dump your classifier, dataset, and features_list so anyone can\n",
    "### check your results. You do not need to change anything below, but make sure\n",
    "### that the version of poi_id.py that you submit can be run on its own and\n",
    "### generates the necessary .pkl files for validating your results.\n",
    "\n",
    "dump_classifier_and_data(clf, my_dataset, features_list)"
   ]
  },
  {
   "cell_type": "code",
   "execution_count": null,
   "metadata": {
    "collapsed": true
   },
   "outputs": [],
   "source": []
  },
  {
   "cell_type": "code",
   "execution_count": null,
   "metadata": {
    "collapsed": true
   },
   "outputs": [],
   "source": []
  },
  {
   "cell_type": "code",
   "execution_count": null,
   "metadata": {
    "collapsed": true
   },
   "outputs": [],
   "source": []
  },
  {
   "cell_type": "code",
   "execution_count": null,
   "metadata": {
    "collapsed": true
   },
   "outputs": [],
   "source": []
  },
  {
   "cell_type": "code",
   "execution_count": null,
   "metadata": {
    "collapsed": true
   },
   "outputs": [],
   "source": []
  },
  {
   "cell_type": "code",
   "execution_count": null,
   "metadata": {
    "collapsed": true
   },
   "outputs": [],
   "source": []
  },
  {
   "cell_type": "code",
   "execution_count": null,
   "metadata": {
    "collapsed": true
   },
   "outputs": [],
   "source": []
  },
  {
   "cell_type": "code",
   "execution_count": null,
   "metadata": {
    "collapsed": true
   },
   "outputs": [],
   "source": []
  },
  {
   "cell_type": "code",
   "execution_count": null,
   "metadata": {
    "collapsed": true
   },
   "outputs": [],
   "source": []
  },
  {
   "cell_type": "code",
   "execution_count": null,
   "metadata": {
    "collapsed": true
   },
   "outputs": [],
   "source": []
  }
 ],
 "metadata": {
  "kernelspec": {
   "display_name": "Python [conda env:analytics2]",
   "language": "python",
   "name": "conda-env-analytics2-py"
  },
  "language_info": {
   "codemirror_mode": {
    "name": "ipython",
    "version": 2
   },
   "file_extension": ".py",
   "mimetype": "text/x-python",
   "name": "python",
   "nbconvert_exporter": "python",
   "pygments_lexer": "ipython2",
   "version": "2.7.14"
  }
 },
 "nbformat": 4,
 "nbformat_minor": 2
}

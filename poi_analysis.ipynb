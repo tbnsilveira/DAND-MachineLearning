{
 "cells": [
  {
   "cell_type": "markdown",
   "metadata": {},
   "source": [
    "# Identifying fraud from Enron e-mails"
   ]
  },
  {
   "cell_type": "markdown",
   "metadata": {},
   "source": [
    "## Table of Contents\n",
    "* <a href=\"#sec1\">1. Introduction</a>\n",
    "  * <a href=\"#sec1.1\"> 1.1. Initial statements </a>\n",
    "\n",
    "* <a href=\"#sec2\">2. Data Wrangling</a>\n",
    "  * <a href=\"#sec2.1\"> 2.1. Loading the data </a>\n",
    "\n",
    "* <a href=\"#sec3\">3. Feature selection</a>\n",
    "  * <a href=\"#sec3.1\"> 3.1. Selecting valid data </a>\n",
    "  * <a href=\"#sec3.2\"> 3.2. Looking for outliers </a>"
   ]
  },
  {
   "cell_type": "markdown",
   "metadata": {},
   "source": [
    "<a id='sec1'></a>\n",
    "## 1. Introduction"
   ]
  },
  {
   "cell_type": "markdown",
   "metadata": {},
   "source": [
    "<a id='sec1.1'></a>\n",
    "### 1.1. Initial statements\n",
    "This section sets up import statements for all the packages that will be used throughout this python notebook."
   ]
  },
  {
   "cell_type": "code",
   "execution_count": 320,
   "metadata": {
    "collapsed": false
   },
   "outputs": [],
   "source": [
    "# Udacity statements\n",
    "import sys\n",
    "import pickle\n",
    "sys.path.append(\"tools/\")\n",
    "\n",
    "from feature_format import featureFormat, targetFeatureSplit\n",
    "from tester import dump_classifier_and_data\n",
    "\n",
    "# Data analysis packages:\n",
    "import pandas as pd\n",
    "import numpy as np\n",
    "#from datetime import datetime as dt\n",
    "\n",
    "# Visualization packages:\n",
    "import seaborn as sns\n",
    "import matplotlib.pyplot as plt\n",
    "%matplotlib inline"
   ]
  },
  {
   "cell_type": "code",
   "execution_count": 321,
   "metadata": {
    "collapsed": true
   },
   "outputs": [],
   "source": [
    "## Forcing pandas to display any number of elements\n",
    "pd.set_option('display.max_columns', None)\n",
    "pd.options.display.max_seq_items = 2000"
   ]
  },
  {
   "cell_type": "markdown",
   "metadata": {},
   "source": [
    "<a id='sec2'></a>\n",
    "## 2. Data wrangling\n",
    "Analyzing the data integrity, the expected values and removing outliers."
   ]
  },
  {
   "cell_type": "markdown",
   "metadata": {},
   "source": [
    "<a id='sec2.1'></a>\n",
    "### 2.1. Loading the data"
   ]
  },
  {
   "cell_type": "code",
   "execution_count": 357,
   "metadata": {
    "collapsed": true
   },
   "outputs": [],
   "source": [
    "### Load the dictionary containing the dataset\n",
    "with open(\"final_project_dataset.pkl\", \"r\") as data_file:\n",
    "    data_dict = pickle.load(data_file)"
   ]
  },
  {
   "cell_type": "code",
   "execution_count": 358,
   "metadata": {
    "collapsed": false
   },
   "outputs": [
    {
     "name": "stdout",
     "output_type": "stream",
     "text": [
      "('Dataset type: ', <type 'dict'>)\n",
      "('Dataset length: ', 146)\n"
     ]
    }
   ],
   "source": [
    "## What is the data type and length?\n",
    "print('Dataset type: ',type(data_dict))\n",
    "print('Dataset length: ',len(data_dict))"
   ]
  },
  {
   "cell_type": "code",
   "execution_count": 359,
   "metadata": {
    "collapsed": false,
    "scrolled": true
   },
   "outputs": [
    {
     "data": {
      "text/html": [
       "<div>\n",
       "<style>\n",
       "    .dataframe thead tr:only-child th {\n",
       "        text-align: right;\n",
       "    }\n",
       "\n",
       "    .dataframe thead th {\n",
       "        text-align: left;\n",
       "    }\n",
       "\n",
       "    .dataframe tbody tr th {\n",
       "        vertical-align: top;\n",
       "    }\n",
       "</style>\n",
       "<table border=\"1\" class=\"dataframe\">\n",
       "  <thead>\n",
       "    <tr style=\"text-align: right;\">\n",
       "      <th></th>\n",
       "      <th>salary</th>\n",
       "      <th>to_messages</th>\n",
       "      <th>deferral_payments</th>\n",
       "      <th>total_payments</th>\n",
       "      <th>exercised_stock_options</th>\n",
       "      <th>bonus</th>\n",
       "      <th>restricted_stock</th>\n",
       "      <th>shared_receipt_with_poi</th>\n",
       "      <th>restricted_stock_deferred</th>\n",
       "      <th>total_stock_value</th>\n",
       "      <th>expenses</th>\n",
       "      <th>loan_advances</th>\n",
       "      <th>from_messages</th>\n",
       "      <th>other</th>\n",
       "      <th>from_this_person_to_poi</th>\n",
       "      <th>poi</th>\n",
       "      <th>director_fees</th>\n",
       "      <th>deferred_income</th>\n",
       "      <th>long_term_incentive</th>\n",
       "      <th>email_address</th>\n",
       "      <th>from_poi_to_this_person</th>\n",
       "    </tr>\n",
       "  </thead>\n",
       "  <tbody>\n",
       "    <tr>\n",
       "      <th>ALLEN PHILLIP K</th>\n",
       "      <td>201955</td>\n",
       "      <td>2902</td>\n",
       "      <td>2869717</td>\n",
       "      <td>4484442</td>\n",
       "      <td>1729541</td>\n",
       "      <td>4175000</td>\n",
       "      <td>126027</td>\n",
       "      <td>1407</td>\n",
       "      <td>-126027</td>\n",
       "      <td>1729541</td>\n",
       "      <td>13868</td>\n",
       "      <td>NaN</td>\n",
       "      <td>2195</td>\n",
       "      <td>152</td>\n",
       "      <td>65</td>\n",
       "      <td>False</td>\n",
       "      <td>NaN</td>\n",
       "      <td>-3081055</td>\n",
       "      <td>304805</td>\n",
       "      <td>phillip.allen@enron.com</td>\n",
       "      <td>47</td>\n",
       "    </tr>\n",
       "    <tr>\n",
       "      <th>BADUM JAMES P</th>\n",
       "      <td>NaN</td>\n",
       "      <td>NaN</td>\n",
       "      <td>178980</td>\n",
       "      <td>182466</td>\n",
       "      <td>257817</td>\n",
       "      <td>NaN</td>\n",
       "      <td>NaN</td>\n",
       "      <td>NaN</td>\n",
       "      <td>NaN</td>\n",
       "      <td>257817</td>\n",
       "      <td>3486</td>\n",
       "      <td>NaN</td>\n",
       "      <td>NaN</td>\n",
       "      <td>NaN</td>\n",
       "      <td>NaN</td>\n",
       "      <td>False</td>\n",
       "      <td>NaN</td>\n",
       "      <td>NaN</td>\n",
       "      <td>NaN</td>\n",
       "      <td>NaN</td>\n",
       "      <td>NaN</td>\n",
       "    </tr>\n",
       "    <tr>\n",
       "      <th>BANNANTINE JAMES M</th>\n",
       "      <td>477</td>\n",
       "      <td>566</td>\n",
       "      <td>NaN</td>\n",
       "      <td>916197</td>\n",
       "      <td>4046157</td>\n",
       "      <td>NaN</td>\n",
       "      <td>1757552</td>\n",
       "      <td>465</td>\n",
       "      <td>-560222</td>\n",
       "      <td>5243487</td>\n",
       "      <td>56301</td>\n",
       "      <td>NaN</td>\n",
       "      <td>29</td>\n",
       "      <td>864523</td>\n",
       "      <td>0</td>\n",
       "      <td>False</td>\n",
       "      <td>NaN</td>\n",
       "      <td>-5104</td>\n",
       "      <td>NaN</td>\n",
       "      <td>james.bannantine@enron.com</td>\n",
       "      <td>39</td>\n",
       "    </tr>\n",
       "    <tr>\n",
       "      <th>BAXTER JOHN C</th>\n",
       "      <td>267102</td>\n",
       "      <td>NaN</td>\n",
       "      <td>1295738</td>\n",
       "      <td>5634343</td>\n",
       "      <td>6680544</td>\n",
       "      <td>1200000</td>\n",
       "      <td>3942714</td>\n",
       "      <td>NaN</td>\n",
       "      <td>NaN</td>\n",
       "      <td>10623258</td>\n",
       "      <td>11200</td>\n",
       "      <td>NaN</td>\n",
       "      <td>NaN</td>\n",
       "      <td>2660303</td>\n",
       "      <td>NaN</td>\n",
       "      <td>False</td>\n",
       "      <td>NaN</td>\n",
       "      <td>-1386055</td>\n",
       "      <td>1586055</td>\n",
       "      <td>NaN</td>\n",
       "      <td>NaN</td>\n",
       "    </tr>\n",
       "    <tr>\n",
       "      <th>BAY FRANKLIN R</th>\n",
       "      <td>239671</td>\n",
       "      <td>NaN</td>\n",
       "      <td>260455</td>\n",
       "      <td>827696</td>\n",
       "      <td>NaN</td>\n",
       "      <td>400000</td>\n",
       "      <td>145796</td>\n",
       "      <td>NaN</td>\n",
       "      <td>-82782</td>\n",
       "      <td>63014</td>\n",
       "      <td>129142</td>\n",
       "      <td>NaN</td>\n",
       "      <td>NaN</td>\n",
       "      <td>69</td>\n",
       "      <td>NaN</td>\n",
       "      <td>False</td>\n",
       "      <td>NaN</td>\n",
       "      <td>-201641</td>\n",
       "      <td>NaN</td>\n",
       "      <td>frank.bay@enron.com</td>\n",
       "      <td>NaN</td>\n",
       "    </tr>\n",
       "  </tbody>\n",
       "</table>\n",
       "</div>"
      ],
      "text/plain": [
       "                    salary to_messages deferral_payments total_payments  \\\n",
       "ALLEN PHILLIP K     201955        2902           2869717        4484442   \n",
       "BADUM JAMES P          NaN         NaN            178980         182466   \n",
       "BANNANTINE JAMES M     477         566               NaN         916197   \n",
       "BAXTER JOHN C       267102         NaN           1295738        5634343   \n",
       "BAY FRANKLIN R      239671         NaN            260455         827696   \n",
       "\n",
       "                   exercised_stock_options    bonus restricted_stock  \\\n",
       "ALLEN PHILLIP K                    1729541  4175000           126027   \n",
       "BADUM JAMES P                       257817      NaN              NaN   \n",
       "BANNANTINE JAMES M                 4046157      NaN          1757552   \n",
       "BAXTER JOHN C                      6680544  1200000          3942714   \n",
       "BAY FRANKLIN R                         NaN   400000           145796   \n",
       "\n",
       "                   shared_receipt_with_poi restricted_stock_deferred  \\\n",
       "ALLEN PHILLIP K                       1407                   -126027   \n",
       "BADUM JAMES P                          NaN                       NaN   \n",
       "BANNANTINE JAMES M                     465                   -560222   \n",
       "BAXTER JOHN C                          NaN                       NaN   \n",
       "BAY FRANKLIN R                         NaN                    -82782   \n",
       "\n",
       "                   total_stock_value expenses loan_advances from_messages  \\\n",
       "ALLEN PHILLIP K              1729541    13868           NaN          2195   \n",
       "BADUM JAMES P                 257817     3486           NaN           NaN   \n",
       "BANNANTINE JAMES M           5243487    56301           NaN            29   \n",
       "BAXTER JOHN C               10623258    11200           NaN           NaN   \n",
       "BAY FRANKLIN R                 63014   129142           NaN           NaN   \n",
       "\n",
       "                      other from_this_person_to_poi    poi director_fees  \\\n",
       "ALLEN PHILLIP K         152                      65  False           NaN   \n",
       "BADUM JAMES P           NaN                     NaN  False           NaN   \n",
       "BANNANTINE JAMES M   864523                       0  False           NaN   \n",
       "BAXTER JOHN C       2660303                     NaN  False           NaN   \n",
       "BAY FRANKLIN R           69                     NaN  False           NaN   \n",
       "\n",
       "                   deferred_income long_term_incentive  \\\n",
       "ALLEN PHILLIP K           -3081055              304805   \n",
       "BADUM JAMES P                  NaN                 NaN   \n",
       "BANNANTINE JAMES M           -5104                 NaN   \n",
       "BAXTER JOHN C             -1386055             1586055   \n",
       "BAY FRANKLIN R             -201641                 NaN   \n",
       "\n",
       "                                 email_address from_poi_to_this_person  \n",
       "ALLEN PHILLIP K        phillip.allen@enron.com                      47  \n",
       "BADUM JAMES P                              NaN                     NaN  \n",
       "BANNANTINE JAMES M  james.bannantine@enron.com                      39  \n",
       "BAXTER JOHN C                              NaN                     NaN  \n",
       "BAY FRANKLIN R             frank.bay@enron.com                     NaN  "
      ]
     },
     "execution_count": 359,
     "metadata": {},
     "output_type": "execute_result"
    }
   ],
   "source": [
    "## Exploring the dataset through pandas.Dataframe\n",
    "dataset = pd.DataFrame.from_dict(data_dict, orient='index')\n",
    "dataset.head()"
   ]
  },
  {
   "cell_type": "markdown",
   "metadata": {},
   "source": [
    "<a id='sec2.2'></a>\n",
    "### 2.2 Analyzing string data:"
   ]
  },
  {
   "cell_type": "code",
   "execution_count": 360,
   "metadata": {
    "collapsed": false
   },
   "outputs": [
    {
     "data": {
      "text/html": [
       "<div>\n",
       "<style>\n",
       "    .dataframe thead tr:only-child th {\n",
       "        text-align: right;\n",
       "    }\n",
       "\n",
       "    .dataframe thead th {\n",
       "        text-align: left;\n",
       "    }\n",
       "\n",
       "    .dataframe tbody tr th {\n",
       "        vertical-align: top;\n",
       "    }\n",
       "</style>\n",
       "<table border=\"1\" class=\"dataframe\">\n",
       "  <thead>\n",
       "    <tr style=\"text-align: right;\">\n",
       "      <th></th>\n",
       "      <th>salary</th>\n",
       "      <th>to_messages</th>\n",
       "      <th>deferral_payments</th>\n",
       "      <th>total_payments</th>\n",
       "      <th>exercised_stock_options</th>\n",
       "      <th>bonus</th>\n",
       "      <th>restricted_stock</th>\n",
       "      <th>shared_receipt_with_poi</th>\n",
       "      <th>restricted_stock_deferred</th>\n",
       "      <th>total_stock_value</th>\n",
       "      <th>expenses</th>\n",
       "      <th>loan_advances</th>\n",
       "      <th>from_messages</th>\n",
       "      <th>other</th>\n",
       "      <th>from_this_person_to_poi</th>\n",
       "      <th>poi</th>\n",
       "      <th>director_fees</th>\n",
       "      <th>deferred_income</th>\n",
       "      <th>long_term_incentive</th>\n",
       "      <th>email_address</th>\n",
       "      <th>from_poi_to_this_person</th>\n",
       "    </tr>\n",
       "  </thead>\n",
       "  <tbody>\n",
       "    <tr>\n",
       "      <th>count</th>\n",
       "      <td>146</td>\n",
       "      <td>146</td>\n",
       "      <td>146</td>\n",
       "      <td>146</td>\n",
       "      <td>146</td>\n",
       "      <td>146</td>\n",
       "      <td>146</td>\n",
       "      <td>146</td>\n",
       "      <td>146</td>\n",
       "      <td>146</td>\n",
       "      <td>146</td>\n",
       "      <td>146</td>\n",
       "      <td>146</td>\n",
       "      <td>146</td>\n",
       "      <td>146</td>\n",
       "      <td>146</td>\n",
       "      <td>146</td>\n",
       "      <td>146</td>\n",
       "      <td>146</td>\n",
       "      <td>146</td>\n",
       "      <td>146</td>\n",
       "    </tr>\n",
       "    <tr>\n",
       "      <th>unique</th>\n",
       "      <td>95</td>\n",
       "      <td>87</td>\n",
       "      <td>40</td>\n",
       "      <td>126</td>\n",
       "      <td>102</td>\n",
       "      <td>42</td>\n",
       "      <td>98</td>\n",
       "      <td>84</td>\n",
       "      <td>19</td>\n",
       "      <td>125</td>\n",
       "      <td>95</td>\n",
       "      <td>5</td>\n",
       "      <td>65</td>\n",
       "      <td>93</td>\n",
       "      <td>42</td>\n",
       "      <td>2</td>\n",
       "      <td>18</td>\n",
       "      <td>45</td>\n",
       "      <td>53</td>\n",
       "      <td>112</td>\n",
       "      <td>58</td>\n",
       "    </tr>\n",
       "    <tr>\n",
       "      <th>top</th>\n",
       "      <td>NaN</td>\n",
       "      <td>NaN</td>\n",
       "      <td>NaN</td>\n",
       "      <td>NaN</td>\n",
       "      <td>NaN</td>\n",
       "      <td>NaN</td>\n",
       "      <td>NaN</td>\n",
       "      <td>NaN</td>\n",
       "      <td>NaN</td>\n",
       "      <td>NaN</td>\n",
       "      <td>NaN</td>\n",
       "      <td>NaN</td>\n",
       "      <td>NaN</td>\n",
       "      <td>NaN</td>\n",
       "      <td>NaN</td>\n",
       "      <td>False</td>\n",
       "      <td>NaN</td>\n",
       "      <td>NaN</td>\n",
       "      <td>NaN</td>\n",
       "      <td>NaN</td>\n",
       "      <td>NaN</td>\n",
       "    </tr>\n",
       "    <tr>\n",
       "      <th>freq</th>\n",
       "      <td>51</td>\n",
       "      <td>60</td>\n",
       "      <td>107</td>\n",
       "      <td>21</td>\n",
       "      <td>44</td>\n",
       "      <td>64</td>\n",
       "      <td>36</td>\n",
       "      <td>60</td>\n",
       "      <td>128</td>\n",
       "      <td>20</td>\n",
       "      <td>51</td>\n",
       "      <td>142</td>\n",
       "      <td>60</td>\n",
       "      <td>53</td>\n",
       "      <td>60</td>\n",
       "      <td>128</td>\n",
       "      <td>129</td>\n",
       "      <td>97</td>\n",
       "      <td>80</td>\n",
       "      <td>35</td>\n",
       "      <td>60</td>\n",
       "    </tr>\n",
       "  </tbody>\n",
       "</table>\n",
       "</div>"
      ],
      "text/plain": [
       "       salary to_messages deferral_payments total_payments  \\\n",
       "count     146         146               146            146   \n",
       "unique     95          87                40            126   \n",
       "top       NaN         NaN               NaN            NaN   \n",
       "freq       51          60               107             21   \n",
       "\n",
       "       exercised_stock_options bonus restricted_stock shared_receipt_with_poi  \\\n",
       "count                      146   146              146                     146   \n",
       "unique                     102    42               98                      84   \n",
       "top                        NaN   NaN              NaN                     NaN   \n",
       "freq                        44    64               36                      60   \n",
       "\n",
       "       restricted_stock_deferred total_stock_value expenses loan_advances  \\\n",
       "count                        146               146      146           146   \n",
       "unique                        19               125       95             5   \n",
       "top                          NaN               NaN      NaN           NaN   \n",
       "freq                         128                20       51           142   \n",
       "\n",
       "       from_messages other from_this_person_to_poi    poi director_fees  \\\n",
       "count            146   146                     146    146           146   \n",
       "unique            65    93                      42      2            18   \n",
       "top              NaN   NaN                     NaN  False           NaN   \n",
       "freq              60    53                      60    128           129   \n",
       "\n",
       "       deferred_income long_term_incentive email_address  \\\n",
       "count              146                 146           146   \n",
       "unique              45                  53           112   \n",
       "top                NaN                 NaN           NaN   \n",
       "freq                97                  80            35   \n",
       "\n",
       "       from_poi_to_this_person  \n",
       "count                      146  \n",
       "unique                      58  \n",
       "top                        NaN  \n",
       "freq                        60  "
      ]
     },
     "execution_count": 360,
     "metadata": {},
     "output_type": "execute_result"
    }
   ],
   "source": [
    "dataset.describe()"
   ]
  },
  {
   "cell_type": "code",
   "execution_count": 361,
   "metadata": {
    "collapsed": false,
    "scrolled": true
   },
   "outputs": [
    {
     "name": "stdout",
     "output_type": "stream",
     "text": [
      "salary has type <type 'int'>\n",
      "to_messages has type <type 'int'>\n",
      "deferral_payments has type <type 'int'>\n",
      "total_payments has type <type 'int'>\n",
      "exercised_stock_options has type <type 'int'>\n",
      "bonus has type <type 'int'>\n",
      "restricted_stock has type <type 'int'>\n",
      "shared_receipt_with_poi has type <type 'int'>\n",
      "restricted_stock_deferred has type <type 'int'>\n",
      "total_stock_value has type <type 'int'>\n",
      "expenses has type <type 'int'>\n",
      "loan_advances has type <type 'str'>\n",
      "from_messages has type <type 'int'>\n",
      "other has type <type 'int'>\n",
      "from_this_person_to_poi has type <type 'int'>\n",
      "poi has type <type 'numpy.bool_'>\n",
      "director_fees has type <type 'str'>\n",
      "deferred_income has type <type 'int'>\n",
      "long_term_incentive has type <type 'int'>\n",
      "email_address has type <type 'str'>\n",
      "from_poi_to_this_person has type <type 'int'>\n"
     ]
    }
   ],
   "source": [
    "## Checking the feature data type:\n",
    "features_to_check = []\n",
    "for col in dataset.columns:\n",
    "    datatype = type(dataset[col][0])\n",
    "    print '{} has type {}'.format(col,datatype)\n",
    "    if datatype is str:\n",
    "        features_to_check.append(col)"
   ]
  },
  {
   "cell_type": "code",
   "execution_count": 362,
   "metadata": {
    "collapsed": false
   },
   "outputs": [
    {
     "data": {
      "text/plain": [
       "['loan_advances', 'director_fees', 'email_address']"
      ]
     },
     "execution_count": 362,
     "metadata": {},
     "output_type": "execute_result"
    }
   ],
   "source": [
    "## Printing out the features that must be checked (string types are not iterable!)\n",
    "features_to_check"
   ]
  },
  {
   "cell_type": "markdown",
   "metadata": {},
   "source": [
    "From the features above, only *email_address* is expected to contain string type data. In this way, an in-depth look must be done in the other ones."
   ]
  },
  {
   "cell_type": "markdown",
   "metadata": {},
   "source": [
    "<a id='sec2.2.1'></a>\n",
    "#### 2.2.1 Checking *loan_advances* data:\n",
    "This attribute type is originally *(str type)*. However, it was expected to have financial values. "
   ]
  },
  {
   "cell_type": "code",
   "execution_count": 363,
   "metadata": {
    "collapsed": false
   },
   "outputs": [
    {
     "data": {
      "text/plain": [
       "array(['NaN', 2000000, 81525000, 400000, 83925000], dtype=object)"
      ]
     },
     "execution_count": 363,
     "metadata": {},
     "output_type": "execute_result"
    }
   ],
   "source": [
    "dataset['loan_advances'].unique()"
   ]
  },
  {
   "cell_type": "markdown",
   "metadata": {},
   "source": [
    "Only four instances have *loan_advances* valid values. Checking them out:"
   ]
  },
  {
   "cell_type": "code",
   "execution_count": 364,
   "metadata": {
    "collapsed": false
   },
   "outputs": [
    {
     "data": {
      "text/html": [
       "<div>\n",
       "<style>\n",
       "    .dataframe thead tr:only-child th {\n",
       "        text-align: right;\n",
       "    }\n",
       "\n",
       "    .dataframe thead th {\n",
       "        text-align: left;\n",
       "    }\n",
       "\n",
       "    .dataframe tbody tr th {\n",
       "        vertical-align: top;\n",
       "    }\n",
       "</style>\n",
       "<table border=\"1\" class=\"dataframe\">\n",
       "  <thead>\n",
       "    <tr style=\"text-align: right;\">\n",
       "      <th></th>\n",
       "      <th>salary</th>\n",
       "      <th>to_messages</th>\n",
       "      <th>deferral_payments</th>\n",
       "      <th>total_payments</th>\n",
       "      <th>exercised_stock_options</th>\n",
       "      <th>bonus</th>\n",
       "      <th>restricted_stock</th>\n",
       "      <th>shared_receipt_with_poi</th>\n",
       "      <th>restricted_stock_deferred</th>\n",
       "      <th>total_stock_value</th>\n",
       "      <th>expenses</th>\n",
       "      <th>loan_advances</th>\n",
       "      <th>from_messages</th>\n",
       "      <th>other</th>\n",
       "      <th>from_this_person_to_poi</th>\n",
       "      <th>poi</th>\n",
       "      <th>director_fees</th>\n",
       "      <th>deferred_income</th>\n",
       "      <th>long_term_incentive</th>\n",
       "      <th>email_address</th>\n",
       "      <th>from_poi_to_this_person</th>\n",
       "    </tr>\n",
       "  </thead>\n",
       "  <tbody>\n",
       "    <tr>\n",
       "      <th>FREVERT MARK A</th>\n",
       "      <td>1060932</td>\n",
       "      <td>3275</td>\n",
       "      <td>6426990</td>\n",
       "      <td>17252530</td>\n",
       "      <td>10433518</td>\n",
       "      <td>2000000</td>\n",
       "      <td>4188667</td>\n",
       "      <td>2979</td>\n",
       "      <td>NaN</td>\n",
       "      <td>14622185</td>\n",
       "      <td>86987</td>\n",
       "      <td>2000000</td>\n",
       "      <td>21</td>\n",
       "      <td>7427621</td>\n",
       "      <td>6</td>\n",
       "      <td>False</td>\n",
       "      <td>NaN</td>\n",
       "      <td>-3367011</td>\n",
       "      <td>1617011</td>\n",
       "      <td>mark.frevert@enron.com</td>\n",
       "      <td>242</td>\n",
       "    </tr>\n",
       "    <tr>\n",
       "      <th>LAY KENNETH L</th>\n",
       "      <td>1072321</td>\n",
       "      <td>4273</td>\n",
       "      <td>202911</td>\n",
       "      <td>103559793</td>\n",
       "      <td>34348384</td>\n",
       "      <td>7000000</td>\n",
       "      <td>14761694</td>\n",
       "      <td>2411</td>\n",
       "      <td>NaN</td>\n",
       "      <td>49110078</td>\n",
       "      <td>99832</td>\n",
       "      <td>81525000</td>\n",
       "      <td>36</td>\n",
       "      <td>10359729</td>\n",
       "      <td>16</td>\n",
       "      <td>True</td>\n",
       "      <td>NaN</td>\n",
       "      <td>-300000</td>\n",
       "      <td>3600000</td>\n",
       "      <td>kenneth.lay@enron.com</td>\n",
       "      <td>123</td>\n",
       "    </tr>\n",
       "    <tr>\n",
       "      <th>PICKERING MARK R</th>\n",
       "      <td>655037</td>\n",
       "      <td>898</td>\n",
       "      <td>NaN</td>\n",
       "      <td>1386690</td>\n",
       "      <td>28798</td>\n",
       "      <td>300000</td>\n",
       "      <td>NaN</td>\n",
       "      <td>728</td>\n",
       "      <td>NaN</td>\n",
       "      <td>28798</td>\n",
       "      <td>31653</td>\n",
       "      <td>400000</td>\n",
       "      <td>67</td>\n",
       "      <td>NaN</td>\n",
       "      <td>0</td>\n",
       "      <td>False</td>\n",
       "      <td>NaN</td>\n",
       "      <td>NaN</td>\n",
       "      <td>NaN</td>\n",
       "      <td>mark.pickering@enron.com</td>\n",
       "      <td>7</td>\n",
       "    </tr>\n",
       "    <tr>\n",
       "      <th>TOTAL</th>\n",
       "      <td>26704229</td>\n",
       "      <td>NaN</td>\n",
       "      <td>32083396</td>\n",
       "      <td>309886585</td>\n",
       "      <td>311764000</td>\n",
       "      <td>97343619</td>\n",
       "      <td>130322299</td>\n",
       "      <td>NaN</td>\n",
       "      <td>-7576788</td>\n",
       "      <td>434509511</td>\n",
       "      <td>5235198</td>\n",
       "      <td>83925000</td>\n",
       "      <td>NaN</td>\n",
       "      <td>42667589</td>\n",
       "      <td>NaN</td>\n",
       "      <td>False</td>\n",
       "      <td>1398517</td>\n",
       "      <td>-27992891</td>\n",
       "      <td>48521928</td>\n",
       "      <td>NaN</td>\n",
       "      <td>NaN</td>\n",
       "    </tr>\n",
       "  </tbody>\n",
       "</table>\n",
       "</div>"
      ],
      "text/plain": [
       "                    salary to_messages deferral_payments total_payments  \\\n",
       "FREVERT MARK A     1060932        3275           6426990       17252530   \n",
       "LAY KENNETH L      1072321        4273            202911      103559793   \n",
       "PICKERING MARK R    655037         898               NaN        1386690   \n",
       "TOTAL             26704229         NaN          32083396      309886585   \n",
       "\n",
       "                 exercised_stock_options     bonus restricted_stock  \\\n",
       "FREVERT MARK A                  10433518   2000000          4188667   \n",
       "LAY KENNETH L                   34348384   7000000         14761694   \n",
       "PICKERING MARK R                   28798    300000              NaN   \n",
       "TOTAL                          311764000  97343619        130322299   \n",
       "\n",
       "                 shared_receipt_with_poi restricted_stock_deferred  \\\n",
       "FREVERT MARK A                      2979                       NaN   \n",
       "LAY KENNETH L                       2411                       NaN   \n",
       "PICKERING MARK R                     728                       NaN   \n",
       "TOTAL                                NaN                  -7576788   \n",
       "\n",
       "                 total_stock_value expenses loan_advances from_messages  \\\n",
       "FREVERT MARK A            14622185    86987       2000000            21   \n",
       "LAY KENNETH L             49110078    99832      81525000            36   \n",
       "PICKERING MARK R             28798    31653        400000            67   \n",
       "TOTAL                    434509511  5235198      83925000           NaN   \n",
       "\n",
       "                     other from_this_person_to_poi    poi director_fees  \\\n",
       "FREVERT MARK A     7427621                       6  False           NaN   \n",
       "LAY KENNETH L     10359729                      16   True           NaN   \n",
       "PICKERING MARK R       NaN                       0  False           NaN   \n",
       "TOTAL             42667589                     NaN  False       1398517   \n",
       "\n",
       "                 deferred_income long_term_incentive  \\\n",
       "FREVERT MARK A          -3367011             1617011   \n",
       "LAY KENNETH L            -300000             3600000   \n",
       "PICKERING MARK R             NaN                 NaN   \n",
       "TOTAL                  -27992891            48521928   \n",
       "\n",
       "                             email_address from_poi_to_this_person  \n",
       "FREVERT MARK A      mark.frevert@enron.com                     242  \n",
       "LAY KENNETH L        kenneth.lay@enron.com                     123  \n",
       "PICKERING MARK R  mark.pickering@enron.com                       7  \n",
       "TOTAL                                  NaN                     NaN  "
      ]
     },
     "execution_count": 364,
     "metadata": {},
     "output_type": "execute_result"
    }
   ],
   "source": [
    "dataset[dataset['loan_advances']!='NaN']"
   ]
  },
  {
   "cell_type": "markdown",
   "metadata": {},
   "source": [
    "The first outlier pops out from this data -- the **TOTAL** instance must be removed. Besides it, this feature occurs only for three valid instances, in the way maybe it's not the best feature to feed our classifier."
   ]
  },
  {
   "cell_type": "markdown",
   "metadata": {},
   "source": [
    "<a id='sec2.2.2'></a>\n",
    "#### 2.2.1 Checking *director_fees* data:\n",
    "As for *loan_advances*, this attribute type is originally *(str type)*. However, it was expected to have financial values too. "
   ]
  },
  {
   "cell_type": "code",
   "execution_count": 365,
   "metadata": {
    "collapsed": false
   },
   "outputs": [
    {
     "data": {
      "text/plain": [
       "array(['NaN', 3285, 137864, 113784, 98784, 102492, 119292, 108750, 112492,\n",
       "       103750, 38346, 101250, 17500, 125034, 1398517, 36666, 109298, 108579], dtype=object)"
      ]
     },
     "execution_count": 365,
     "metadata": {},
     "output_type": "execute_result"
    }
   ],
   "source": [
    "dataset['director_fees'].unique()"
   ]
  },
  {
   "cell_type": "code",
   "execution_count": 366,
   "metadata": {
    "collapsed": false
   },
   "outputs": [
    {
     "data": {
      "text/html": [
       "<div>\n",
       "<style>\n",
       "    .dataframe thead tr:only-child th {\n",
       "        text-align: right;\n",
       "    }\n",
       "\n",
       "    .dataframe thead th {\n",
       "        text-align: left;\n",
       "    }\n",
       "\n",
       "    .dataframe tbody tr th {\n",
       "        vertical-align: top;\n",
       "    }\n",
       "</style>\n",
       "<table border=\"1\" class=\"dataframe\">\n",
       "  <thead>\n",
       "    <tr style=\"text-align: right;\">\n",
       "      <th></th>\n",
       "      <th>salary</th>\n",
       "      <th>to_messages</th>\n",
       "      <th>deferral_payments</th>\n",
       "      <th>total_payments</th>\n",
       "      <th>exercised_stock_options</th>\n",
       "      <th>bonus</th>\n",
       "      <th>restricted_stock</th>\n",
       "      <th>shared_receipt_with_poi</th>\n",
       "      <th>restricted_stock_deferred</th>\n",
       "      <th>total_stock_value</th>\n",
       "      <th>expenses</th>\n",
       "      <th>loan_advances</th>\n",
       "      <th>from_messages</th>\n",
       "      <th>other</th>\n",
       "      <th>from_this_person_to_poi</th>\n",
       "      <th>poi</th>\n",
       "      <th>director_fees</th>\n",
       "      <th>deferred_income</th>\n",
       "      <th>long_term_incentive</th>\n",
       "      <th>email_address</th>\n",
       "      <th>from_poi_to_this_person</th>\n",
       "    </tr>\n",
       "  </thead>\n",
       "  <tbody>\n",
       "    <tr>\n",
       "      <th>BELFER ROBERT</th>\n",
       "      <td>NaN</td>\n",
       "      <td>NaN</td>\n",
       "      <td>-102500</td>\n",
       "      <td>102500</td>\n",
       "      <td>3285</td>\n",
       "      <td>NaN</td>\n",
       "      <td>NaN</td>\n",
       "      <td>NaN</td>\n",
       "      <td>44093</td>\n",
       "      <td>-44093</td>\n",
       "      <td>NaN</td>\n",
       "      <td>NaN</td>\n",
       "      <td>NaN</td>\n",
       "      <td>NaN</td>\n",
       "      <td>NaN</td>\n",
       "      <td>False</td>\n",
       "      <td>3285</td>\n",
       "      <td>NaN</td>\n",
       "      <td>NaN</td>\n",
       "      <td>NaN</td>\n",
       "      <td>NaN</td>\n",
       "    </tr>\n",
       "    <tr>\n",
       "      <th>BHATNAGAR SANJAY</th>\n",
       "      <td>NaN</td>\n",
       "      <td>523</td>\n",
       "      <td>NaN</td>\n",
       "      <td>15456290</td>\n",
       "      <td>2604490</td>\n",
       "      <td>NaN</td>\n",
       "      <td>-2604490</td>\n",
       "      <td>463</td>\n",
       "      <td>15456290</td>\n",
       "      <td>NaN</td>\n",
       "      <td>NaN</td>\n",
       "      <td>NaN</td>\n",
       "      <td>29</td>\n",
       "      <td>137864</td>\n",
       "      <td>1</td>\n",
       "      <td>False</td>\n",
       "      <td>137864</td>\n",
       "      <td>NaN</td>\n",
       "      <td>NaN</td>\n",
       "      <td>sanjay.bhatnagar@enron.com</td>\n",
       "      <td>0</td>\n",
       "    </tr>\n",
       "    <tr>\n",
       "      <th>BLAKE JR. NORMAN P</th>\n",
       "      <td>NaN</td>\n",
       "      <td>NaN</td>\n",
       "      <td>NaN</td>\n",
       "      <td>1279</td>\n",
       "      <td>NaN</td>\n",
       "      <td>NaN</td>\n",
       "      <td>NaN</td>\n",
       "      <td>NaN</td>\n",
       "      <td>NaN</td>\n",
       "      <td>NaN</td>\n",
       "      <td>1279</td>\n",
       "      <td>NaN</td>\n",
       "      <td>NaN</td>\n",
       "      <td>NaN</td>\n",
       "      <td>NaN</td>\n",
       "      <td>False</td>\n",
       "      <td>113784</td>\n",
       "      <td>-113784</td>\n",
       "      <td>NaN</td>\n",
       "      <td>NaN</td>\n",
       "      <td>NaN</td>\n",
       "    </tr>\n",
       "    <tr>\n",
       "      <th>CHAN RONNIE</th>\n",
       "      <td>NaN</td>\n",
       "      <td>NaN</td>\n",
       "      <td>NaN</td>\n",
       "      <td>NaN</td>\n",
       "      <td>NaN</td>\n",
       "      <td>NaN</td>\n",
       "      <td>32460</td>\n",
       "      <td>NaN</td>\n",
       "      <td>-32460</td>\n",
       "      <td>NaN</td>\n",
       "      <td>NaN</td>\n",
       "      <td>NaN</td>\n",
       "      <td>NaN</td>\n",
       "      <td>NaN</td>\n",
       "      <td>NaN</td>\n",
       "      <td>False</td>\n",
       "      <td>98784</td>\n",
       "      <td>-98784</td>\n",
       "      <td>NaN</td>\n",
       "      <td>NaN</td>\n",
       "      <td>NaN</td>\n",
       "    </tr>\n",
       "    <tr>\n",
       "      <th>DUNCAN JOHN H</th>\n",
       "      <td>NaN</td>\n",
       "      <td>NaN</td>\n",
       "      <td>NaN</td>\n",
       "      <td>77492</td>\n",
       "      <td>371750</td>\n",
       "      <td>NaN</td>\n",
       "      <td>NaN</td>\n",
       "      <td>NaN</td>\n",
       "      <td>NaN</td>\n",
       "      <td>371750</td>\n",
       "      <td>NaN</td>\n",
       "      <td>NaN</td>\n",
       "      <td>NaN</td>\n",
       "      <td>NaN</td>\n",
       "      <td>NaN</td>\n",
       "      <td>False</td>\n",
       "      <td>102492</td>\n",
       "      <td>-25000</td>\n",
       "      <td>NaN</td>\n",
       "      <td>NaN</td>\n",
       "      <td>NaN</td>\n",
       "    </tr>\n",
       "    <tr>\n",
       "      <th>GRAMM WENDY L</th>\n",
       "      <td>NaN</td>\n",
       "      <td>NaN</td>\n",
       "      <td>NaN</td>\n",
       "      <td>119292</td>\n",
       "      <td>NaN</td>\n",
       "      <td>NaN</td>\n",
       "      <td>NaN</td>\n",
       "      <td>NaN</td>\n",
       "      <td>NaN</td>\n",
       "      <td>NaN</td>\n",
       "      <td>NaN</td>\n",
       "      <td>NaN</td>\n",
       "      <td>NaN</td>\n",
       "      <td>NaN</td>\n",
       "      <td>NaN</td>\n",
       "      <td>False</td>\n",
       "      <td>119292</td>\n",
       "      <td>NaN</td>\n",
       "      <td>NaN</td>\n",
       "      <td>NaN</td>\n",
       "      <td>NaN</td>\n",
       "    </tr>\n",
       "    <tr>\n",
       "      <th>JAEDICKE ROBERT</th>\n",
       "      <td>NaN</td>\n",
       "      <td>NaN</td>\n",
       "      <td>NaN</td>\n",
       "      <td>83750</td>\n",
       "      <td>431750</td>\n",
       "      <td>NaN</td>\n",
       "      <td>44093</td>\n",
       "      <td>NaN</td>\n",
       "      <td>-44093</td>\n",
       "      <td>431750</td>\n",
       "      <td>NaN</td>\n",
       "      <td>NaN</td>\n",
       "      <td>NaN</td>\n",
       "      <td>NaN</td>\n",
       "      <td>NaN</td>\n",
       "      <td>False</td>\n",
       "      <td>108750</td>\n",
       "      <td>-25000</td>\n",
       "      <td>NaN</td>\n",
       "      <td>NaN</td>\n",
       "      <td>NaN</td>\n",
       "    </tr>\n",
       "    <tr>\n",
       "      <th>LEMAISTRE CHARLES</th>\n",
       "      <td>NaN</td>\n",
       "      <td>NaN</td>\n",
       "      <td>NaN</td>\n",
       "      <td>87492</td>\n",
       "      <td>412878</td>\n",
       "      <td>NaN</td>\n",
       "      <td>NaN</td>\n",
       "      <td>NaN</td>\n",
       "      <td>NaN</td>\n",
       "      <td>412878</td>\n",
       "      <td>NaN</td>\n",
       "      <td>NaN</td>\n",
       "      <td>NaN</td>\n",
       "      <td>NaN</td>\n",
       "      <td>NaN</td>\n",
       "      <td>False</td>\n",
       "      <td>112492</td>\n",
       "      <td>-25000</td>\n",
       "      <td>NaN</td>\n",
       "      <td>NaN</td>\n",
       "      <td>NaN</td>\n",
       "    </tr>\n",
       "    <tr>\n",
       "      <th>MENDELSOHN JOHN</th>\n",
       "      <td>NaN</td>\n",
       "      <td>NaN</td>\n",
       "      <td>NaN</td>\n",
       "      <td>148</td>\n",
       "      <td>NaN</td>\n",
       "      <td>NaN</td>\n",
       "      <td>NaN</td>\n",
       "      <td>NaN</td>\n",
       "      <td>NaN</td>\n",
       "      <td>NaN</td>\n",
       "      <td>148</td>\n",
       "      <td>NaN</td>\n",
       "      <td>NaN</td>\n",
       "      <td>NaN</td>\n",
       "      <td>NaN</td>\n",
       "      <td>False</td>\n",
       "      <td>103750</td>\n",
       "      <td>-103750</td>\n",
       "      <td>NaN</td>\n",
       "      <td>NaN</td>\n",
       "      <td>NaN</td>\n",
       "    </tr>\n",
       "    <tr>\n",
       "      <th>MEYER JEROME J</th>\n",
       "      <td>NaN</td>\n",
       "      <td>NaN</td>\n",
       "      <td>NaN</td>\n",
       "      <td>2151</td>\n",
       "      <td>NaN</td>\n",
       "      <td>NaN</td>\n",
       "      <td>NaN</td>\n",
       "      <td>NaN</td>\n",
       "      <td>NaN</td>\n",
       "      <td>NaN</td>\n",
       "      <td>2151</td>\n",
       "      <td>NaN</td>\n",
       "      <td>NaN</td>\n",
       "      <td>NaN</td>\n",
       "      <td>NaN</td>\n",
       "      <td>False</td>\n",
       "      <td>38346</td>\n",
       "      <td>-38346</td>\n",
       "      <td>NaN</td>\n",
       "      <td>NaN</td>\n",
       "      <td>NaN</td>\n",
       "    </tr>\n",
       "    <tr>\n",
       "      <th>PEREIRA PAULO V. FERRAZ</th>\n",
       "      <td>NaN</td>\n",
       "      <td>NaN</td>\n",
       "      <td>NaN</td>\n",
       "      <td>27942</td>\n",
       "      <td>NaN</td>\n",
       "      <td>NaN</td>\n",
       "      <td>NaN</td>\n",
       "      <td>NaN</td>\n",
       "      <td>NaN</td>\n",
       "      <td>NaN</td>\n",
       "      <td>27942</td>\n",
       "      <td>NaN</td>\n",
       "      <td>NaN</td>\n",
       "      <td>NaN</td>\n",
       "      <td>NaN</td>\n",
       "      <td>False</td>\n",
       "      <td>101250</td>\n",
       "      <td>-101250</td>\n",
       "      <td>NaN</td>\n",
       "      <td>NaN</td>\n",
       "      <td>NaN</td>\n",
       "    </tr>\n",
       "    <tr>\n",
       "      <th>POWERS WILLIAM</th>\n",
       "      <td>NaN</td>\n",
       "      <td>653</td>\n",
       "      <td>NaN</td>\n",
       "      <td>NaN</td>\n",
       "      <td>NaN</td>\n",
       "      <td>NaN</td>\n",
       "      <td>NaN</td>\n",
       "      <td>12</td>\n",
       "      <td>NaN</td>\n",
       "      <td>NaN</td>\n",
       "      <td>NaN</td>\n",
       "      <td>NaN</td>\n",
       "      <td>26</td>\n",
       "      <td>NaN</td>\n",
       "      <td>0</td>\n",
       "      <td>False</td>\n",
       "      <td>17500</td>\n",
       "      <td>-17500</td>\n",
       "      <td>NaN</td>\n",
       "      <td>ken.powers@enron.com</td>\n",
       "      <td>0</td>\n",
       "    </tr>\n",
       "    <tr>\n",
       "      <th>SAVAGE FRANK</th>\n",
       "      <td>NaN</td>\n",
       "      <td>NaN</td>\n",
       "      <td>NaN</td>\n",
       "      <td>3750</td>\n",
       "      <td>NaN</td>\n",
       "      <td>NaN</td>\n",
       "      <td>NaN</td>\n",
       "      <td>NaN</td>\n",
       "      <td>NaN</td>\n",
       "      <td>NaN</td>\n",
       "      <td>NaN</td>\n",
       "      <td>NaN</td>\n",
       "      <td>NaN</td>\n",
       "      <td>NaN</td>\n",
       "      <td>NaN</td>\n",
       "      <td>False</td>\n",
       "      <td>125034</td>\n",
       "      <td>-121284</td>\n",
       "      <td>NaN</td>\n",
       "      <td>NaN</td>\n",
       "      <td>NaN</td>\n",
       "    </tr>\n",
       "    <tr>\n",
       "      <th>TOTAL</th>\n",
       "      <td>26704229</td>\n",
       "      <td>NaN</td>\n",
       "      <td>32083396</td>\n",
       "      <td>309886585</td>\n",
       "      <td>311764000</td>\n",
       "      <td>97343619</td>\n",
       "      <td>130322299</td>\n",
       "      <td>NaN</td>\n",
       "      <td>-7576788</td>\n",
       "      <td>434509511</td>\n",
       "      <td>5235198</td>\n",
       "      <td>83925000</td>\n",
       "      <td>NaN</td>\n",
       "      <td>42667589</td>\n",
       "      <td>NaN</td>\n",
       "      <td>False</td>\n",
       "      <td>1398517</td>\n",
       "      <td>-27992891</td>\n",
       "      <td>48521928</td>\n",
       "      <td>NaN</td>\n",
       "      <td>NaN</td>\n",
       "    </tr>\n",
       "    <tr>\n",
       "      <th>URQUHART JOHN A</th>\n",
       "      <td>NaN</td>\n",
       "      <td>NaN</td>\n",
       "      <td>NaN</td>\n",
       "      <td>228656</td>\n",
       "      <td>NaN</td>\n",
       "      <td>NaN</td>\n",
       "      <td>NaN</td>\n",
       "      <td>NaN</td>\n",
       "      <td>NaN</td>\n",
       "      <td>NaN</td>\n",
       "      <td>228656</td>\n",
       "      <td>NaN</td>\n",
       "      <td>NaN</td>\n",
       "      <td>NaN</td>\n",
       "      <td>NaN</td>\n",
       "      <td>False</td>\n",
       "      <td>36666</td>\n",
       "      <td>-36666</td>\n",
       "      <td>NaN</td>\n",
       "      <td>NaN</td>\n",
       "      <td>NaN</td>\n",
       "    </tr>\n",
       "    <tr>\n",
       "      <th>WAKEHAM JOHN</th>\n",
       "      <td>NaN</td>\n",
       "      <td>NaN</td>\n",
       "      <td>NaN</td>\n",
       "      <td>213071</td>\n",
       "      <td>NaN</td>\n",
       "      <td>NaN</td>\n",
       "      <td>NaN</td>\n",
       "      <td>NaN</td>\n",
       "      <td>NaN</td>\n",
       "      <td>NaN</td>\n",
       "      <td>103773</td>\n",
       "      <td>NaN</td>\n",
       "      <td>NaN</td>\n",
       "      <td>NaN</td>\n",
       "      <td>NaN</td>\n",
       "      <td>False</td>\n",
       "      <td>109298</td>\n",
       "      <td>NaN</td>\n",
       "      <td>NaN</td>\n",
       "      <td>NaN</td>\n",
       "      <td>NaN</td>\n",
       "    </tr>\n",
       "    <tr>\n",
       "      <th>WINOKUR JR. HERBERT S</th>\n",
       "      <td>NaN</td>\n",
       "      <td>NaN</td>\n",
       "      <td>NaN</td>\n",
       "      <td>84992</td>\n",
       "      <td>NaN</td>\n",
       "      <td>NaN</td>\n",
       "      <td>NaN</td>\n",
       "      <td>NaN</td>\n",
       "      <td>NaN</td>\n",
       "      <td>NaN</td>\n",
       "      <td>1413</td>\n",
       "      <td>NaN</td>\n",
       "      <td>NaN</td>\n",
       "      <td>NaN</td>\n",
       "      <td>NaN</td>\n",
       "      <td>False</td>\n",
       "      <td>108579</td>\n",
       "      <td>-25000</td>\n",
       "      <td>NaN</td>\n",
       "      <td>NaN</td>\n",
       "      <td>NaN</td>\n",
       "    </tr>\n",
       "  </tbody>\n",
       "</table>\n",
       "</div>"
      ],
      "text/plain": [
       "                           salary to_messages deferral_payments  \\\n",
       "BELFER ROBERT                 NaN         NaN           -102500   \n",
       "BHATNAGAR SANJAY              NaN         523               NaN   \n",
       "BLAKE JR. NORMAN P            NaN         NaN               NaN   \n",
       "CHAN RONNIE                   NaN         NaN               NaN   \n",
       "DUNCAN JOHN H                 NaN         NaN               NaN   \n",
       "GRAMM WENDY L                 NaN         NaN               NaN   \n",
       "JAEDICKE ROBERT               NaN         NaN               NaN   \n",
       "LEMAISTRE CHARLES             NaN         NaN               NaN   \n",
       "MENDELSOHN JOHN               NaN         NaN               NaN   \n",
       "MEYER JEROME J                NaN         NaN               NaN   \n",
       "PEREIRA PAULO V. FERRAZ       NaN         NaN               NaN   \n",
       "POWERS WILLIAM                NaN         653               NaN   \n",
       "SAVAGE FRANK                  NaN         NaN               NaN   \n",
       "TOTAL                    26704229         NaN          32083396   \n",
       "URQUHART JOHN A               NaN         NaN               NaN   \n",
       "WAKEHAM JOHN                  NaN         NaN               NaN   \n",
       "WINOKUR JR. HERBERT S         NaN         NaN               NaN   \n",
       "\n",
       "                        total_payments exercised_stock_options     bonus  \\\n",
       "BELFER ROBERT                   102500                    3285       NaN   \n",
       "BHATNAGAR SANJAY              15456290                 2604490       NaN   \n",
       "BLAKE JR. NORMAN P                1279                     NaN       NaN   \n",
       "CHAN RONNIE                        NaN                     NaN       NaN   \n",
       "DUNCAN JOHN H                    77492                  371750       NaN   \n",
       "GRAMM WENDY L                   119292                     NaN       NaN   \n",
       "JAEDICKE ROBERT                  83750                  431750       NaN   \n",
       "LEMAISTRE CHARLES                87492                  412878       NaN   \n",
       "MENDELSOHN JOHN                    148                     NaN       NaN   \n",
       "MEYER JEROME J                    2151                     NaN       NaN   \n",
       "PEREIRA PAULO V. FERRAZ          27942                     NaN       NaN   \n",
       "POWERS WILLIAM                     NaN                     NaN       NaN   \n",
       "SAVAGE FRANK                      3750                     NaN       NaN   \n",
       "TOTAL                        309886585               311764000  97343619   \n",
       "URQUHART JOHN A                 228656                     NaN       NaN   \n",
       "WAKEHAM JOHN                    213071                     NaN       NaN   \n",
       "WINOKUR JR. HERBERT S            84992                     NaN       NaN   \n",
       "\n",
       "                        restricted_stock shared_receipt_with_poi  \\\n",
       "BELFER ROBERT                        NaN                     NaN   \n",
       "BHATNAGAR SANJAY                -2604490                     463   \n",
       "BLAKE JR. NORMAN P                   NaN                     NaN   \n",
       "CHAN RONNIE                        32460                     NaN   \n",
       "DUNCAN JOHN H                        NaN                     NaN   \n",
       "GRAMM WENDY L                        NaN                     NaN   \n",
       "JAEDICKE ROBERT                    44093                     NaN   \n",
       "LEMAISTRE CHARLES                    NaN                     NaN   \n",
       "MENDELSOHN JOHN                      NaN                     NaN   \n",
       "MEYER JEROME J                       NaN                     NaN   \n",
       "PEREIRA PAULO V. FERRAZ              NaN                     NaN   \n",
       "POWERS WILLIAM                       NaN                      12   \n",
       "SAVAGE FRANK                         NaN                     NaN   \n",
       "TOTAL                          130322299                     NaN   \n",
       "URQUHART JOHN A                      NaN                     NaN   \n",
       "WAKEHAM JOHN                         NaN                     NaN   \n",
       "WINOKUR JR. HERBERT S                NaN                     NaN   \n",
       "\n",
       "                        restricted_stock_deferred total_stock_value expenses  \\\n",
       "BELFER ROBERT                               44093            -44093      NaN   \n",
       "BHATNAGAR SANJAY                         15456290               NaN      NaN   \n",
       "BLAKE JR. NORMAN P                            NaN               NaN     1279   \n",
       "CHAN RONNIE                                -32460               NaN      NaN   \n",
       "DUNCAN JOHN H                                 NaN            371750      NaN   \n",
       "GRAMM WENDY L                                 NaN               NaN      NaN   \n",
       "JAEDICKE ROBERT                            -44093            431750      NaN   \n",
       "LEMAISTRE CHARLES                             NaN            412878      NaN   \n",
       "MENDELSOHN JOHN                               NaN               NaN      148   \n",
       "MEYER JEROME J                                NaN               NaN     2151   \n",
       "PEREIRA PAULO V. FERRAZ                       NaN               NaN    27942   \n",
       "POWERS WILLIAM                                NaN               NaN      NaN   \n",
       "SAVAGE FRANK                                  NaN               NaN      NaN   \n",
       "TOTAL                                    -7576788         434509511  5235198   \n",
       "URQUHART JOHN A                               NaN               NaN   228656   \n",
       "WAKEHAM JOHN                                  NaN               NaN   103773   \n",
       "WINOKUR JR. HERBERT S                         NaN               NaN     1413   \n",
       "\n",
       "                        loan_advances from_messages     other  \\\n",
       "BELFER ROBERT                     NaN           NaN       NaN   \n",
       "BHATNAGAR SANJAY                  NaN            29    137864   \n",
       "BLAKE JR. NORMAN P                NaN           NaN       NaN   \n",
       "CHAN RONNIE                       NaN           NaN       NaN   \n",
       "DUNCAN JOHN H                     NaN           NaN       NaN   \n",
       "GRAMM WENDY L                     NaN           NaN       NaN   \n",
       "JAEDICKE ROBERT                   NaN           NaN       NaN   \n",
       "LEMAISTRE CHARLES                 NaN           NaN       NaN   \n",
       "MENDELSOHN JOHN                   NaN           NaN       NaN   \n",
       "MEYER JEROME J                    NaN           NaN       NaN   \n",
       "PEREIRA PAULO V. FERRAZ           NaN           NaN       NaN   \n",
       "POWERS WILLIAM                    NaN            26       NaN   \n",
       "SAVAGE FRANK                      NaN           NaN       NaN   \n",
       "TOTAL                        83925000           NaN  42667589   \n",
       "URQUHART JOHN A                   NaN           NaN       NaN   \n",
       "WAKEHAM JOHN                      NaN           NaN       NaN   \n",
       "WINOKUR JR. HERBERT S             NaN           NaN       NaN   \n",
       "\n",
       "                        from_this_person_to_poi    poi director_fees  \\\n",
       "BELFER ROBERT                               NaN  False          3285   \n",
       "BHATNAGAR SANJAY                              1  False        137864   \n",
       "BLAKE JR. NORMAN P                          NaN  False        113784   \n",
       "CHAN RONNIE                                 NaN  False         98784   \n",
       "DUNCAN JOHN H                               NaN  False        102492   \n",
       "GRAMM WENDY L                               NaN  False        119292   \n",
       "JAEDICKE ROBERT                             NaN  False        108750   \n",
       "LEMAISTRE CHARLES                           NaN  False        112492   \n",
       "MENDELSOHN JOHN                             NaN  False        103750   \n",
       "MEYER JEROME J                              NaN  False         38346   \n",
       "PEREIRA PAULO V. FERRAZ                     NaN  False        101250   \n",
       "POWERS WILLIAM                                0  False         17500   \n",
       "SAVAGE FRANK                                NaN  False        125034   \n",
       "TOTAL                                       NaN  False       1398517   \n",
       "URQUHART JOHN A                             NaN  False         36666   \n",
       "WAKEHAM JOHN                                NaN  False        109298   \n",
       "WINOKUR JR. HERBERT S                       NaN  False        108579   \n",
       "\n",
       "                        deferred_income long_term_incentive  \\\n",
       "BELFER ROBERT                       NaN                 NaN   \n",
       "BHATNAGAR SANJAY                    NaN                 NaN   \n",
       "BLAKE JR. NORMAN P              -113784                 NaN   \n",
       "CHAN RONNIE                      -98784                 NaN   \n",
       "DUNCAN JOHN H                    -25000                 NaN   \n",
       "GRAMM WENDY L                       NaN                 NaN   \n",
       "JAEDICKE ROBERT                  -25000                 NaN   \n",
       "LEMAISTRE CHARLES                -25000                 NaN   \n",
       "MENDELSOHN JOHN                 -103750                 NaN   \n",
       "MEYER JEROME J                   -38346                 NaN   \n",
       "PEREIRA PAULO V. FERRAZ         -101250                 NaN   \n",
       "POWERS WILLIAM                   -17500                 NaN   \n",
       "SAVAGE FRANK                    -121284                 NaN   \n",
       "TOTAL                         -27992891            48521928   \n",
       "URQUHART JOHN A                  -36666                 NaN   \n",
       "WAKEHAM JOHN                        NaN                 NaN   \n",
       "WINOKUR JR. HERBERT S            -25000                 NaN   \n",
       "\n",
       "                                      email_address from_poi_to_this_person  \n",
       "BELFER ROBERT                                   NaN                     NaN  \n",
       "BHATNAGAR SANJAY         sanjay.bhatnagar@enron.com                       0  \n",
       "BLAKE JR. NORMAN P                              NaN                     NaN  \n",
       "CHAN RONNIE                                     NaN                     NaN  \n",
       "DUNCAN JOHN H                                   NaN                     NaN  \n",
       "GRAMM WENDY L                                   NaN                     NaN  \n",
       "JAEDICKE ROBERT                                 NaN                     NaN  \n",
       "LEMAISTRE CHARLES                               NaN                     NaN  \n",
       "MENDELSOHN JOHN                                 NaN                     NaN  \n",
       "MEYER JEROME J                                  NaN                     NaN  \n",
       "PEREIRA PAULO V. FERRAZ                         NaN                     NaN  \n",
       "POWERS WILLIAM                 ken.powers@enron.com                       0  \n",
       "SAVAGE FRANK                                    NaN                     NaN  \n",
       "TOTAL                                           NaN                     NaN  \n",
       "URQUHART JOHN A                                 NaN                     NaN  \n",
       "WAKEHAM JOHN                                    NaN                     NaN  \n",
       "WINOKUR JR. HERBERT S                           NaN                     NaN  "
      ]
     },
     "execution_count": 366,
     "metadata": {},
     "output_type": "execute_result"
    }
   ],
   "source": [
    "dataset[dataset['director_fees']!='NaN']"
   ]
  },
  {
   "cell_type": "markdown",
   "metadata": {},
   "source": [
    "Regarding the ***director_fees*** feature, only 17 instances contains valid value. What calls attention in this case is that most of the other features has **NaN** values, which brings suspection that maybe they refers to false names. Surely something that must be checked later. "
   ]
  },
  {
   "cell_type": "markdown",
   "metadata": {},
   "source": [
    "<a id='sec2.3'></a>\n",
    "### 2.3 Removing **TOTAL** instance:\n",
    "As observed before, the \"TOTAL\" instance must be removed, since we are interested only on POIs."
   ]
  },
  {
   "cell_type": "code",
   "execution_count": 367,
   "metadata": {
    "collapsed": true
   },
   "outputs": [],
   "source": [
    "dataset.drop('TOTAL',inplace=True)  #Removing the anomalous instance"
   ]
  },
  {
   "cell_type": "markdown",
   "metadata": {},
   "source": [
    "<a id='sec2.4'></a>\n",
    "### 2.4 Converting string \"NaN\" to numpy.NaN\n",
    "From the previous output, it was clear there are some 'NaN' in string type instead of numerical or numpy type, which causes some troubles when plotting data or using some classifier. Due to this, the next step is to scan the dataset for 'NaN' string and replace it by numpy.NaN."
   ]
  },
  {
   "cell_type": "code",
   "execution_count": 368,
   "metadata": {
    "collapsed": false,
    "scrolled": true
   },
   "outputs": [],
   "source": [
    "for column in dataset.columns:\n",
    "    dataset[column] = dataset[column].apply(lambda x: np.NaN if x == 'NaN' else x)"
   ]
  },
  {
   "cell_type": "code",
   "execution_count": 369,
   "metadata": {
    "collapsed": false,
    "scrolled": true
   },
   "outputs": [
    {
     "name": "stdout",
     "output_type": "stream",
     "text": [
      "<class 'pandas.core.frame.DataFrame'>\n",
      "Index: 145 entries, ALLEN PHILLIP K to YEAP SOON\n",
      "Data columns (total 21 columns):\n",
      "salary                       94 non-null float64\n",
      "to_messages                  86 non-null float64\n",
      "deferral_payments            38 non-null float64\n",
      "total_payments               124 non-null float64\n",
      "exercised_stock_options      101 non-null float64\n",
      "bonus                        81 non-null float64\n",
      "restricted_stock             109 non-null float64\n",
      "shared_receipt_with_poi      86 non-null float64\n",
      "restricted_stock_deferred    17 non-null float64\n",
      "total_stock_value            125 non-null float64\n",
      "expenses                     94 non-null float64\n",
      "loan_advances                3 non-null float64\n",
      "from_messages                86 non-null float64\n",
      "other                        92 non-null float64\n",
      "from_this_person_to_poi      86 non-null float64\n",
      "poi                          145 non-null bool\n",
      "director_fees                16 non-null float64\n",
      "deferred_income              48 non-null float64\n",
      "long_term_incentive          65 non-null float64\n",
      "email_address                111 non-null object\n",
      "from_poi_to_this_person      86 non-null float64\n",
      "dtypes: bool(1), float64(19), object(1)\n",
      "memory usage: 23.9+ KB\n"
     ]
    }
   ],
   "source": [
    "## Checking the dataset information:\n",
    "dataset.info()"
   ]
  },
  {
   "cell_type": "markdown",
   "metadata": {},
   "source": [
    "<a id='sec3'></a>\n",
    "## 3. Feature selection"
   ]
  },
  {
   "cell_type": "markdown",
   "metadata": {},
   "source": [
    "<a id='sec3.1'></a>\n",
    "### 3.1 Selecting valid data\n",
    "As seen before, there are many null data in our dataset. In order to select the most appropriate features to explore, we will look for those that are present at least in 70% of the dataset. Considering there are 21 features (from which 70% is approximate to 15 features), we will first observe which instances have more than 15 not null values and choose the most complete features from this selection."
   ]
  },
  {
   "cell_type": "code",
   "execution_count": 370,
   "metadata": {
    "collapsed": false
   },
   "outputs": [],
   "source": [
    "notNullDataset = dataset.dropna(thresh=15)"
   ]
  },
  {
   "cell_type": "code",
   "execution_count": 371,
   "metadata": {
    "collapsed": false
   },
   "outputs": [
    {
     "name": "stdout",
     "output_type": "stream",
     "text": [
      "<class 'pandas.core.frame.DataFrame'>\n",
      "Index: 57 entries, ALLEN PHILLIP K to WHALLEY LAWRENCE G\n",
      "Data columns (total 21 columns):\n",
      "salary                       57 non-null float64\n",
      "to_messages                  57 non-null float64\n",
      "deferral_payments            15 non-null float64\n",
      "total_payments               57 non-null float64\n",
      "exercised_stock_options      50 non-null float64\n",
      "bonus                        53 non-null float64\n",
      "restricted_stock             56 non-null float64\n",
      "shared_receipt_with_poi      57 non-null float64\n",
      "restricted_stock_deferred    6 non-null float64\n",
      "total_stock_value            56 non-null float64\n",
      "expenses                     51 non-null float64\n",
      "loan_advances                2 non-null float64\n",
      "from_messages                57 non-null float64\n",
      "other                        57 non-null float64\n",
      "from_this_person_to_poi      57 non-null float64\n",
      "poi                          57 non-null bool\n",
      "director_fees                0 non-null float64\n",
      "deferred_income              25 non-null float64\n",
      "long_term_incentive          45 non-null float64\n",
      "email_address                57 non-null object\n",
      "from_poi_to_this_person      57 non-null float64\n",
      "dtypes: bool(1), float64(19), object(1)\n",
      "memory usage: 9.4+ KB\n"
     ]
    }
   ],
   "source": [
    "notNullDataset.info()"
   ]
  },
  {
   "cell_type": "markdown",
   "metadata": {},
   "source": [
    "From the output above, the features named *deferral_payments; restricted_stock_deferred;* and *director_fees* are removed. Doing so the pre-selected features list becomes:"
   ]
  },
  {
   "cell_type": "code",
   "execution_count": 372,
   "metadata": {
    "collapsed": true
   },
   "outputs": [],
   "source": [
    "preFeatures = [u'salary', u'to_messages', u'total_payments',\n",
    "       u'exercised_stock_options', u'bonus', u'restricted_stock',\n",
    "       u'shared_receipt_with_poi', u'total_stock_value', u'expenses', u'from_messages',\n",
    "       u'other', u'from_this_person_to_poi', u'poi', u'deferred_income', u'long_term_incentive', \n",
    "       u'email_address', u'from_poi_to_this_person']"
   ]
  },
  {
   "cell_type": "markdown",
   "metadata": {},
   "source": [
    "Since in the *feature_format()* method the \"NaN\" strings are replaced by zeros, we need to make this adjustment here."
   ]
  },
  {
   "cell_type": "code",
   "execution_count": 373,
   "metadata": {
    "collapsed": true
   },
   "outputs": [],
   "source": [
    "dataset.fillna(0,inplace=True)"
   ]
  },
  {
   "cell_type": "markdown",
   "metadata": {},
   "source": [
    "<a id='sec3.2'></a>\n",
    "### 3.2 Visual pre-selection\n",
    "The objective here is to visualize how the data is distributed accordingly to the features and selecting those which show a better class distinction. In orther to facilitate the analysis, the features list is splitted into 4 groups before creating their pairplots:"
   ]
  },
  {
   "cell_type": "code",
   "execution_count": 374,
   "metadata": {
    "collapsed": false
   },
   "outputs": [],
   "source": [
    "preFeat01 = [u'salary',u'bonus',u'total_payments',u'expenses']\n",
    "preFeat02 = [u'to_messages', u'from_messages',u'from_poi_to_this_person',u'from_this_person_to_poi']\n",
    "preFeat03 = [u'exercised_stock_options',u'restricted_stock',u'shared_receipt_with_poi', u'total_stock_value']\n",
    "preFeat04 = [u'deferred_income', u'long_term_incentive',u'other']"
   ]
  },
  {
   "cell_type": "code",
   "execution_count": 375,
   "metadata": {
    "collapsed": false
   },
   "outputs": [
    {
     "data": {
      "image/png": "[encoded data removed]",
      "text/plain": [
       "<matplotlib.figure.Figure at 0x7fdcc6e7f690>"
      ]
     },
     "metadata": {},
     "output_type": "display_data"
    }
   ],
   "source": [
    "graph = sns.pairplot(dataset, hue=\"poi\", vars=preFeat01, diag_kind='kde')"
   ]
  },
  {
   "cell_type": "code",
   "execution_count": 376,
   "metadata": {
    "collapsed": false
   },
   "outputs": [
    {
     "data": {
      "image/png": "[encoded data removed]",
      "text/plain": [
       "<matplotlib.figure.Figure at 0x7fdcccfb1810>"
      ]
     },
     "metadata": {},
     "output_type": "display_data"
    }
   ],
   "source": [
    "graph = sns.pairplot(dataset, hue=\"poi\", vars=preFeat02, diag_kind='kde')"
   ]
  },
  {
   "cell_type": "code",
   "execution_count": 377,
   "metadata": {
    "collapsed": false
   },
   "outputs": [
    {
     "data": {
      "image/png": "[encoded data removed]",
      "text/plain": [
       "<matplotlib.figure.Figure at 0x7fdccd61ac10>"
      ]
     },
     "metadata": {},
     "output_type": "display_data"
    }
   ],
   "source": [
    "graph = sns.pairplot(dataset, hue=\"poi\", vars=preFeat03, diag_kind='kde')"
   ]
  },
  {
   "cell_type": "code",
   "execution_count": 378,
   "metadata": {
    "collapsed": false
   },
   "outputs": [
    {
     "data": {
      "image/png": "[encoded data removed]",
      "text/plain": [
       "<matplotlib.figure.Figure at 0x7fdccd2d9a50>"
      ]
     },
     "metadata": {},
     "output_type": "display_data"
    }
   ],
   "source": [
    "graph = sns.pairplot(dataset, hue=\"poi\", vars=preFeat04, diag_kind='kde')"
   ]
  },
  {
   "cell_type": "markdown",
   "metadata": {},
   "source": [
    "From the charts above, we select the features attending to the following criteria: (i) distinct univariate distribution for each class; (ii) visual class distinction among two variables correlations. Doing so, the features *other, total_payments* and *expenses* are removed from the previous list and separeted accordingly to its context:"
   ]
  },
  {
   "cell_type": "code",
   "execution_count": 379,
   "metadata": {
    "collapsed": true
   },
   "outputs": [],
   "source": [
    "financialFeatures = [u'salary',u'bonus', u'exercised_stock_options',u'restricted_stock',u'shared_receipt_with_poi', \n",
    "                     u'total_stock_value', u'deferred_income', u'long_term_incentive']\n",
    "behavioralFeatures = [u'to_messages', u'from_messages',u'from_poi_to_this_person',u'from_this_person_to_poi']"
   ]
  },
  {
   "cell_type": "markdown",
   "metadata": {},
   "source": [
    "<a id='sec3.3'></a>\n",
    "### 3.3 Univariate feature selection"
   ]
  },
  {
   "cell_type": "markdown",
   "metadata": {},
   "source": [
    "First of all, even though the pre-selected features contains many valid data, all the dataset instances have at least one feature or attribute with an invalid value (NaN), which may break many of the algorithms we want to run with. In this case, we will apply the code suggested in (https://stackoverflow.com/questions/30317119/classifiers-in-scikit-learn-that-handle-nan-null) to replace the NaN values for the dataset mean. \n",
    "\n",
    "Considering the financial data have some important outliers, mainly related to some POI, it is important to use a different strategy for NaN replacing than the *mean*, which will be the *median* in this case. "
   ]
  },
  {
   "cell_type": "code",
   "execution_count": 380,
   "metadata": {
    "collapsed": false
   },
   "outputs": [],
   "source": [
    "from sklearn.preprocessing import Imputer\n",
    "\n",
    "# Create our imputer to replace missing values with the mean e.g.\n",
    "imp = Imputer(missing_values='NaN', strategy='median', axis=0)\n",
    "imp = imp.fit(dataset[financialFeatures])\n",
    "\n",
    "imputerData = imp.transform(dataset[financialFeatures])\n",
    "financialDataset = pd.DataFrame(imputerData, index=dataset.index, columns=financialFeatures)"
   ]
  },
  {
   "cell_type": "code",
   "execution_count": 381,
   "metadata": {
    "collapsed": false
   },
   "outputs": [
    {
     "name": "stdout",
     "output_type": "stream",
     "text": [
      "<class 'pandas.core.frame.DataFrame'>\n",
      "Index: 145 entries, ALLEN PHILLIP K to YEAP SOON\n",
      "Data columns (total 8 columns):\n",
      "salary                     145 non-null float64\n",
      "bonus                      145 non-null float64\n",
      "exercised_stock_options    145 non-null float64\n",
      "restricted_stock           145 non-null float64\n",
      "shared_receipt_with_poi    145 non-null float64\n",
      "total_stock_value          145 non-null float64\n",
      "deferred_income            145 non-null float64\n",
      "long_term_incentive        145 non-null float64\n",
      "dtypes: float64(8)\n",
      "memory usage: 15.2+ KB\n"
     ]
    }
   ],
   "source": [
    "## Checking the consistency of the new dataset:\n",
    "financialDataset.info()"
   ]
  },
  {
   "cell_type": "markdown",
   "metadata": {},
   "source": [
    "The code below is based on the example available in http://scikit-learn.org/stable/auto_examples/feature_selection/plot_feature_selection.html#sphx-glr-auto-examples-feature-selection-plot-feature-selection-py, in which an univariate feature selection is applied. "
   ]
  },
  {
   "cell_type": "code",
   "execution_count": 382,
   "metadata": {
    "collapsed": false
   },
   "outputs": [
    {
     "data": {
      "text/plain": [
       "SelectPercentile(percentile=5,\n",
       "         score_func=<function f_classif at 0x7fdcc6743500>)"
      ]
     },
     "execution_count": 382,
     "metadata": {},
     "output_type": "execute_result"
    }
   ],
   "source": [
    "from sklearn.feature_selection import SelectPercentile, f_classif\n",
    "\n",
    "selectorDataset = financialDataset\n",
    "selectorLabel = dataset['poi']\n",
    "\n",
    "# #############################################################################\n",
    "# Univariate feature selection with F-test for feature scoring\n",
    "# We use the default selection function: the 5% most significant features\n",
    "selector = SelectPercentile(f_classif, percentile=5)\n",
    "selector.fit(selectorDataset, selectorLabel)"
   ]
  },
  {
   "cell_type": "code",
   "execution_count": 383,
   "metadata": {
    "collapsed": false
   },
   "outputs": [
    {
     "data": {
      "text/plain": [
       "<Container object of 8 artists>"
      ]
     },
     "execution_count": 383,
     "metadata": {},
     "output_type": "execute_result"
    },
    {
     "data": {
      "image/png": "[encoded data removed]",
      "text/plain": [
       "<matplotlib.figure.Figure at 0x7fdcc5362250>"
      ]
     },
     "metadata": {},
     "output_type": "display_data"
    }
   ],
   "source": [
    "## Plotting the features selection: \n",
    "X_indices = np.arange(selectorDataset.shape[-1])\n",
    "scores = -np.log10(selector.pvalues_)\n",
    "scores /= scores.max()\n",
    "plt.bar(X_indices, scores, width=.2,\n",
    "        label=r'Univariate score ($-Log(p_{value})$)', color='darkorange',\n",
    "        edgecolor='black')"
   ]
  },
  {
   "cell_type": "code",
   "execution_count": 384,
   "metadata": {
    "collapsed": false
   },
   "outputs": [
    {
     "name": "stdout",
     "output_type": "stream",
     "text": [
      "salary :  0.781868634496\n",
      "bonus :  0.865701390131\n",
      "exercised_stock_options :  1.0\n",
      "total_stock_value :  0.979465489013\n",
      "deferred_income :  0.528826943386\n",
      "long_term_incentive :  0.4727358214\n"
     ]
    }
   ],
   "source": [
    "## Printing out the selected financial features: \n",
    "for ix, pval in enumerate(scores):\n",
    "    if pval > 0.45:\n",
    "        print financialFeatures[ix],': ',pval"
   ]
  },
  {
   "cell_type": "code",
   "execution_count": 385,
   "metadata": {
    "collapsed": false,
    "scrolled": true
   },
   "outputs": [
    {
     "data": {
      "text/plain": [
       "[u'salary',\n",
       " u'bonus',\n",
       " u'exercised_stock_options',\n",
       " u'restricted_stock',\n",
       " u'shared_receipt_with_poi',\n",
       " u'total_stock_value',\n",
       " u'deferred_income',\n",
       " u'long_term_incentive']"
      ]
     },
     "execution_count": 385,
     "metadata": {},
     "output_type": "execute_result"
    }
   ],
   "source": [
    "financialFeatures"
   ]
  },
  {
   "cell_type": "code",
   "execution_count": 386,
   "metadata": {
    "collapsed": false
   },
   "outputs": [],
   "source": [
    "my_dataset = dataset.to_dict(orient='index')\n",
    "features_list = ['poi','salary','bonus','exercised_stock_options','total_stock_value',\n",
    "                 'deferred_income','long_term_incentive']\n",
    "\n",
    "### Extract features and labels from dataset for local testing\n",
    "data = featureFormat(my_dataset, features_list, sort_keys = True)\n",
    "labels, features = targetFeatureSplit(data)\n",
    "\n",
    "#%%## Task 4: Try a varity of classifiers\n",
    "### Please name your classifier clf for easy export below.\n",
    "### Note that if you want to do PCA or other multi-stage operations,\n",
    "### you'll need to use Pipelines. For more info:\n",
    "### http://scikit-learn.org/stable/modules/pipeline.html"
   ]
  },
  {
   "cell_type": "code",
   "execution_count": 387,
   "metadata": {
    "collapsed": false
   },
   "outputs": [
    {
     "data": {
      "text/plain": [
       "[array([  201955.,  4175000.,  1729541.,  1729541., -3081055.,   304805.]),\n",
       " array([      0.,       0.,  257817.,  257817.,       0.,       0.]),\n",
       " array([  4.77000000e+02,   0.00000000e+00,   4.04615700e+06,\n",
       "          5.24348700e+06,  -5.10400000e+03,   0.00000000e+00]),\n",
       " array([   267102.,   1200000.,   6680544.,  10623258.,  -1386055.,\n",
       "          1586055.]),\n",
       " array([ 239671.,  400000.,       0.,   63014., -201641.,       0.]),\n",
       " array([   80818.,        0.,  1599641.,  1599641.,        0.,    93750.]),\n",
       " array([ 231330.,  700000.,       0.,  126027.,       0.,       0.]),\n",
       " array([  213999.,  5249999.,   953136.,  1110705., -2334434.,        0.]),\n",
       " array([     0.,      0.,   3285., -44093.,      0.,      0.]),\n",
       " array([  216582.,        0.,  1624396.,  2493616.,        0.,        0.]),\n",
       " array([ 187922.,  250000.,       0.,  659249., -485813.,  180250.]),\n",
       " array([       0.,        0.,  2604490.,        0.,        0.,        0.]),\n",
       " array([  213625.,  1000000.,  1465734.,  1843816.,        0.,   369721.]),\n",
       " array([ 248546.,  850000.,  765313.,  954354.,       0.,  831809.]),\n",
       " array([      0.,       0.,       0.,       0., -113784.,       0.]),\n",
       " array([  2.78601000e+05,   1.35000000e+06,   0.00000000e+00,\n",
       "          2.52055000e+05,  -8.33000000e+02,   9.74293000e+05]),\n",
       " array([  248017.,   500000.,   825464.,  1014505.,        0.,   304805.]),\n",
       " array([ 261516.,  750000.,       0.,  417619.,  -75000.,  175000.]),\n",
       " array([  330546.,   900000.,  2542813.,  3444470.,  -694862.,   769862.]),\n",
       " array([  240189.,  1250000.,        0.,   126027.,  -262500.,   375304.]),\n",
       " array([ 261809.,  300000.,       0.,       0., -159792.,   75000.]),\n",
       " array([  415189.,  1000000.,        0.,  2502063.,  -235000.,   350000.]),\n",
       " array([     0.,      0.,      0.,      0., -98784.,      0.]),\n",
       " array([       0.,        0.,  5127155.,  6077885.,        0.,        0.]),\n",
       " array([      0.,       0.,       0.,  189518.,       0.,       0.]),\n",
       " array([  288542.,  1200000.,        0.,   698242.,  -144062.,        0.]),\n",
       " array([       0.,        0.,   651850.,  1038185.,        0.,        0.]),\n",
       " array([ 314288.,  800000.,  117551.,  495633.,  -41250.,       0.]),\n",
       " array([ 184899.,  325000.,       0.,  207940.,       0.,  275000.]),\n",
       " array([ 206121.,  600000.,   17378.,  159211.,       0.,  335349.]),\n",
       " array([  365163.,  3000000.,  2291113.,  3614261.,        0.,  1294981.]),\n",
       " array([  492375.,   800000.,  8831913.,  8831913., -1284000.,   484000.]),\n",
       " array([  210500.,   425000.,  2027865.,  2027865.,  -775241.,   415657.]),\n",
       " array([  250100.,   600000.,  1550019.,  1865087.,        0.,   556416.]),\n",
       " array([  262788.,  1000000.,  8191755.,  8317782.,        0.,   694862.]),\n",
       " array([ 221003.,   70000.,       0.,       0.,       0.,       0.]),\n",
       " array([  278601.,   800000.,   765920.,  1080988.,  -300000.,        0.]),\n",
       " array([      0.,       0.,  371750.,  371750.,  -25000.,       0.]),\n",
       " array([  210692.,   750000.,  1451869.,  1640910.,        0.,  1105218.]),\n",
       " array([  182245.,   200000.,   601438.,  1008941.,        0.,  2234774.]),\n",
       " array([  170941.,   350000.,  4890344.,  6678735.,  -400729.,        0.]),\n",
       " array([  304588.,  2500000.,   940257.,  2332399.,        0.,   374347.]),\n",
       " array([  440698.,  1300000.,        0.,  1794412., -1386055.,  1736055.]),\n",
       " array([  199157.,   350000.,   664461.,  1621236.,        0.,   556416.]),\n",
       " array([       0.,        0.,  1324578.,  1884748.,        0.,        0.]),\n",
       " array([      0.,       0.,  343434.,  343434.,       0.,       0.]),\n",
       " array([  1060932.,   2000000.,  10433518.,  14622185.,  -3367011.,\n",
       "          1617011.]),\n",
       " array([      0.,       0.,  176378.,  176378.,       0.,       0.]),\n",
       " array([ 192008.,  509870.,   83237.,  318607.,   -1042.,       0.]),\n",
       " array([ 231946.,  850000.,  636246.,  896153.,       0.,  375304.]),\n",
       " array([       0.,        0.,  1753766.,  1945360.,        0.,        0.]),\n",
       " array([       0.,        0.,  2218275.,  2218275.,        0.,   461912.]),\n",
       " array([     0.,      0.,   9803.,  85641.,      0.,      0.]),\n",
       " array([ 274975.,  600000.,  384728.,  778546.,       0.,   71023.]),\n",
       " array([ 272880.,  750000.,  436515.,  877611.,       0.,  304805.]),\n",
       " array([   6615.,       0.,       0.,       0.,       0.,  365625.]),\n",
       " array([  374125.,  1150000.,   608750.,   803094.,  -934484.,   983346.]),\n",
       " array([  243293.,  1500000.,  5538001.,  6391065., -3117011.,  1617011.]),\n",
       " array([       0.,        0.,        0.,  2217299.,        0.,        0.]),\n",
       " array([      0.,       0.,       0.,  151418.,       0.,       0.]),\n",
       " array([      0.,       0.,       0.,  346663.,       0.,       0.]),\n",
       " array([ 262663.,  700000.,  187500.,  668132., -280000.,  150000.]),\n",
       " array([  211788.,  1700000.,        0.,   441096.,        0.,    69223.]),\n",
       " array([        0.,         0.,  30766064.,  30766064.,         0.,\n",
       "                0.]),\n",
       " array([       0.,        0.,  5210569.,  7256648.,        0.,        0.]),\n",
       " array([       0.,        0.,   754966.,  1118394.,        0.,        0.]),\n",
       " array([  130724.,        0.,  2282768.,  2282768.,        0.,        0.]),\n",
       " array([   85274.,        0.,  2165172.,  5819980.,        0.,   312500.]),\n",
       " array([ 288558.,  250000.,  185063.,  725735.,       0.,       0.]),\n",
       " array([      0.,       0.,  431750.,  431750.,  -25000.,       0.]),\n",
       " array([ 275101.,  400000.,  850010.,  976037.,       0.,  323466.]),\n",
       " array([  404338.,  1000000.,  2022048.,  6153642.,        0.,   300000.]),\n",
       " array([  174246.,        0.,        0.,  1034346.,   -51042.,        0.]),\n",
       " array([  271442.,  3100000.,    81042.,   547143.,        0.,        0.]),\n",
       " array([  309946.,   700000.,   671737.,  1920055.,        0.,   300000.]),\n",
       " array([ 224305.,  800000.,       0.,  985032.,       0.,  602671.]),\n",
       " array([  339288.,  8000000.,  4158995.,  5167144.,        0.,  2035380.]),\n",
       " array([  1072321.,   7000000.,  34348384.,  49110078.,   -300000.,\n",
       "          3600000.]),\n",
       " array([  273746.,  1000000.,        0.,   360528.,        0.,  1387399.]),\n",
       " array([      0.,       0.,  412878.,  412878.,  -25000.,       0.]),\n",
       " array([      0.,       0.,  850477.,  850477.,       0.,       0.]),\n",
       " array([  236457.,   200000.,  2549361.,  3064208.,        0.,   175000.]),\n",
       " array([      0.,       0.,  372205.,  372205.,       0.,       0.]),\n",
       " array([  349487.,        0.,  2070306.,  2070306.,        0.,  5145434.]),\n",
       " array([      0.,       0.,  664375.,  758931.,       0.,       0.]),\n",
       " array([ 263413.,  900000.,  506765.,  947861., -125000.,       0.]),\n",
       " array([  365038.,  1100000.,  1623010.,  3101279.,        0.,   554422.]),\n",
       " array([       0.,        0.,   757301.,  1691366.,        0.,        0.]),\n",
       " array([  370448.,  2600000.,  1104054.,  1662855.,        0.,   694862.]),\n",
       " array([      0.,       0.,       0.,       0., -103750.,       0.]),\n",
       " array([ 365788.,  600000.,       0.,  585062.,       0.,       0.]),\n",
       " array([     0.,      0.,      0.,      0., -38346.,      0.]),\n",
       " array([      0.,       0.,  493489.,  955873.,       0.,       0.]),\n",
       " array([      0.,       0.,   59539.,  221141.,       0.,       0.]),\n",
       " array([ 267093.,  325000.,       0.,  208510.,       0.,       0.]),\n",
       " array([  251654.,  1100000.,  1056320.,  1416848.,  -719000.,  1725545.]),\n",
       " array([ 229284.,  400000.,  400478.,  597461.,       0.,  125000.]),\n",
       " array([      0.,       0.,       0.,  368705.,       0.,       0.]),\n",
       " array([  329078.,   750000.,  1637034.,  2606763.,        0.,   100000.]),\n",
       " array([   94941.,        0.,  5266578.,  7307594.,        0.,   135836.]),\n",
       " array([   261879.,   1000000.,  15364167.,  23817930.,         0.,\n",
       "                0.]),\n",
       " array([      0.,       0.,       0.,       0., -101250.,       0.]),\n",
       " array([ 655037.,  300000.,   28798.,   28798.,       0.,       0.]),\n",
       " array([ 197091.,  400000.,  880290.,  880290.,  -33333.,       0.]),\n",
       " array([     0.,      0.,      0.,  47304.,      0.,      0.]),\n",
       " array([     0.,      0.,      0.,      0., -17500.,      0.]),\n",
       " array([       0.,        0.,   886231.,  1095040.,        0.,        0.]),\n",
       " array([   96840.,        0.,  7509039.,  7890324.,        0.,        0.]),\n",
       " array([   76399.,   100000.,  4160672.,  4221891.,  -200000.,   156250.]),\n",
       " array([   420636.,   1750000.,  19794175.,  22542539.,  -3504386.,\n",
       "          1617011.]),\n",
       " array([  249201.,   700000.,  1635238.,  1918887.,  -100000.,        0.]),\n",
       " array([      0.,       0.,       0.,       0., -121284.,       0.]),\n",
       " array([      0.,       0.,  759557.,  759557.,       0.,       0.]),\n",
       " array([  304110.,  2000000.,  1441898.,  2072035.,        0.,   554422.]),\n",
       " array([ 269076.,  650000.,  607837.,  987001.,       0.,       0.]),\n",
       " array([ 248146.,  600000.,  281073.,  494136.,       0.,  422158.]),\n",
       " array([  211844.,   200000.,  1624396.,  2493616.,    -4167.,        0.]),\n",
       " array([       0.,        0.,  1426469.,  1832468.,        0.,        0.]),\n",
       " array([  428780.,  1500000.,  1835558.,  3128982.,        0.,   554422.]),\n",
       " array([  1111258.,   5600000.,  19250000.,  26093672.,         0.,\n",
       "          1920000.]),\n",
       " array([ 239502.,  500000.,       0.,  511734.,       0.,       0.]),\n",
       " array([  162779.,   100000.,  1362375.,  1362375.,        0.,   554422.]),\n",
       " array([ 257486.,  700000.,       0.,  698920.,       0.,  476451.]),\n",
       " array([  265214.,   600000.,  3181250.,  3745048.,        0.,        0.]),\n",
       " array([  222093.,        0.,  4452476.,  4817796.,        0.,   200000.]),\n",
       " array([  247338.,   300000.,   591250.,  1168042.,  -575000.,   275000.]),\n",
       " array([ 288589.,  788750.,       0.,       0.,       0.,       0.]),\n",
       " array([     0.,      0.,      0.,      0., -36666.,      0.]),\n",
       " array([  357091.,   850000.,  4346544.,  5898997.,        0.,   540751.]),\n",
       " array([       0.,        0.,  1030329.,  1030329.,        0.,        0.]),\n",
       " array([  259996.,   325000.,  1668260.,  2056427.,  -583325.,   200000.]),\n",
       " array([  63744.,       0.,       0.,  384930.,  -10800.,  256191.]),\n",
       " array([     0.,      0.,  98718.,  98718.,      0.,      0.]),\n",
       " array([  510364.,  3000000.,  3282960.,  6079137.,        0.,   808346.]),\n",
       " array([   317543.,    450000.,   1297049.,  15144123.,         0.,\n",
       "                0.]),\n",
       " array([     0.,      0.,      0.,      0., -25000.,      0.]),\n",
       " array([      0.,       0.,  139130.,  139130.,       0.,       0.]),\n",
       " array([   158403.,         0.,   8308552.,  11884758.,         0.,\n",
       "                0.]),\n",
       " array([      0.,       0.,  192758.,  192758.,       0.,       0.])]"
      ]
     },
     "execution_count": 387,
     "metadata": {},
     "output_type": "execute_result"
    }
   ],
   "source": [
    "features"
   ]
  },
  {
   "cell_type": "code",
   "execution_count": 388,
   "metadata": {
    "collapsed": false
   },
   "outputs": [
    {
     "data": {
      "text/plain": [
       "[0.0,\n",
       " 0.0,\n",
       " 0.0,\n",
       " 0.0,\n",
       " 0.0,\n",
       " 0.0,\n",
       " 0.0,\n",
       " 1.0,\n",
       " 0.0,\n",
       " 0.0,\n",
       " 0.0,\n",
       " 0.0,\n",
       " 0.0,\n",
       " 0.0,\n",
       " 0.0,\n",
       " 1.0,\n",
       " 0.0,\n",
       " 0.0,\n",
       " 0.0,\n",
       " 1.0,\n",
       " 0.0,\n",
       " 1.0,\n",
       " 0.0,\n",
       " 0.0,\n",
       " 0.0,\n",
       " 1.0,\n",
       " 0.0,\n",
       " 0.0,\n",
       " 0.0,\n",
       " 0.0,\n",
       " 1.0,\n",
       " 0.0,\n",
       " 0.0,\n",
       " 0.0,\n",
       " 0.0,\n",
       " 0.0,\n",
       " 0.0,\n",
       " 0.0,\n",
       " 0.0,\n",
       " 0.0,\n",
       " 0.0,\n",
       " 0.0,\n",
       " 1.0,\n",
       " 0.0,\n",
       " 0.0,\n",
       " 0.0,\n",
       " 0.0,\n",
       " 0.0,\n",
       " 0.0,\n",
       " 0.0,\n",
       " 0.0,\n",
       " 0.0,\n",
       " 0.0,\n",
       " 1.0,\n",
       " 0.0,\n",
       " 0.0,\n",
       " 0.0,\n",
       " 1.0,\n",
       " 0.0,\n",
       " 0.0,\n",
       " 0.0,\n",
       " 0.0,\n",
       " 0.0,\n",
       " 1.0,\n",
       " 0.0,\n",
       " 0.0,\n",
       " 0.0,\n",
       " 0.0,\n",
       " 0.0,\n",
       " 0.0,\n",
       " 0.0,\n",
       " 0.0,\n",
       " 0.0,\n",
       " 0.0,\n",
       " 1.0,\n",
       " 1.0,\n",
       " 0.0,\n",
       " 1.0,\n",
       " 0.0,\n",
       " 0.0,\n",
       " 0.0,\n",
       " 0.0,\n",
       " 0.0,\n",
       " 0.0,\n",
       " 0.0,\n",
       " 0.0,\n",
       " 0.0,\n",
       " 0.0,\n",
       " 0.0,\n",
       " 0.0,\n",
       " 0.0,\n",
       " 0.0,\n",
       " 0.0,\n",
       " 0.0,\n",
       " 0.0,\n",
       " 0.0,\n",
       " 0.0,\n",
       " 0.0,\n",
       " 0.0,\n",
       " 0.0,\n",
       " 0.0,\n",
       " 0.0,\n",
       " 0.0,\n",
       " 0.0,\n",
       " 0.0,\n",
       " 0.0,\n",
       " 0.0,\n",
       " 0.0,\n",
       " 0.0,\n",
       " 1.0,\n",
       " 1.0,\n",
       " 0.0,\n",
       " 0.0,\n",
       " 0.0,\n",
       " 0.0,\n",
       " 0.0,\n",
       " 1.0,\n",
       " 0.0,\n",
       " 0.0,\n",
       " 1.0,\n",
       " 0.0,\n",
       " 0.0,\n",
       " 0.0,\n",
       " 0.0,\n",
       " 0.0,\n",
       " 0.0,\n",
       " 0.0,\n",
       " 0.0,\n",
       " 0.0,\n",
       " 0.0,\n",
       " 0.0,\n",
       " 0.0,\n",
       " 0.0,\n",
       " 0.0,\n",
       " 0.0,\n",
       " 0.0,\n",
       " 0.0,\n",
       " 1.0,\n",
       " 0.0]"
      ]
     },
     "execution_count": 388,
     "metadata": {},
     "output_type": "execute_result"
    }
   ],
   "source": [
    "labels"
   ]
  },
  {
   "cell_type": "code",
   "execution_count": 389,
   "metadata": {
    "collapsed": false
   },
   "outputs": [
    {
     "data": {
      "text/plain": [
       "0.9285714285714286"
      ]
     },
     "execution_count": 389,
     "metadata": {},
     "output_type": "execute_result"
    }
   ],
   "source": [
    "# Provided to give you a starting point. Try a variety of classifiers.\n",
    "from sklearn.naive_bayes import GaussianNB\n",
    "clf = GaussianNB()\n",
    "\n",
    "#%%## Task 5: Tune your classifier to achieve better than .3 precision and recall \n",
    "### using our testing script. Check the tester.py script in the final project\n",
    "### folder for details on the evaluation method, especially the test_classifier\n",
    "### function. Because of the small size of the dataset, the script uses\n",
    "### stratified shuffle split cross validation. For more info: \n",
    "### http://scikit-learn.org/stable/modules/generated/sklearn.cross_validation.StratifiedShuffleSplit.html\n",
    "\n",
    "# Example starting point. Try investigating other evaluation techniques!\n",
    "from sklearn.cross_validation import train_test_split\n",
    "features_train, features_test, labels_train, labels_test = \\\n",
    "    train_test_split(features, labels, test_size=0.3, random_state=42)\n",
    "    \n",
    "clf.fit(features_train,labels_train)\n",
    "clf.score(features_test,labels_test)"
   ]
  },
  {
   "cell_type": "code",
   "execution_count": 390,
   "metadata": {
    "collapsed": false
   },
   "outputs": [],
   "source": [
    "#%%## Task 6: Dump your classifier, dataset, and features_list so anyone can\n",
    "### check your results. You do not need to change anything below, but make sure\n",
    "### that the version of poi_id.py that you submit can be run on its own and\n",
    "### generates the necessary .pkl files for validating your results.\n",
    "\n",
    "dump_classifier_and_data(clf, my_dataset, features_list)"
   ]
  },
  {
   "cell_type": "code",
   "execution_count": null,
   "metadata": {
    "collapsed": true
   },
   "outputs": [],
   "source": []
  },
  {
   "cell_type": "code",
   "execution_count": null,
   "metadata": {
    "collapsed": true
   },
   "outputs": [],
   "source": []
  }
 ],
 "metadata": {
  "kernelspec": {
   "display_name": "Python [conda env:analytics2]",
   "language": "python",
   "name": "conda-env-analytics2-py"
  },
  "language_info": {
   "codemirror_mode": {
    "name": "ipython",
    "version": 2
   },
   "file_extension": ".py",
   "mimetype": "text/x-python",
   "name": "python",
   "nbconvert_exporter": "python",
   "pygments_lexer": "ipython2",
   "version": "2.7.14"
  }
 },
 "nbformat": 4,
 "nbformat_minor": 2
}
